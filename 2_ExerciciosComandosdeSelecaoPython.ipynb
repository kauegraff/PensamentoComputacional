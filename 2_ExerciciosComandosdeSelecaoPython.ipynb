{
  "nbformat": 4,
  "nbformat_minor": 0,
  "metadata": {
    "colab": {
      "provenance": [],
      "authorship_tag": "ABX9TyNMmfolK5zcy6vbeONPMV1p",
      "include_colab_link": true
    },
    "kernelspec": {
      "name": "python3",
      "display_name": "Python 3"
    },
    "language_info": {
      "name": "python"
    }
  },
  "cells": [
    {
      "cell_type": "markdown",
      "metadata": {
        "id": "view-in-github",
        "colab_type": "text"
      },
      "source": [
        "<a href=\"https://colab.research.google.com/github/kauegraff/PensamentoComputacional/blob/main/2_ExerciciosComandosdeSelecaoPython.ipynb\" target=\"_parent\"><img src=\"https://colab.research.google.com/assets/colab-badge.svg\" alt=\"Open In Colab\"/></a>"
      ]
    },
    {
      "cell_type": "markdown",
      "source": [
        "1 - Faça um algoritmo em Python para ler dois valores numéricos e apresentar a diferença do maior pelo menor."
      ],
      "metadata": {
        "id": "3yxwr3cfsSOC"
      }
    },
    {
      "cell_type": "code",
      "execution_count": null,
      "metadata": {
        "colab": {
          "base_uri": "https://localhost:8080/"
        },
        "id": "ajhiVg3TsP2t",
        "outputId": "dc713735-0d7c-4b55-e7ed-68a2e64c3459"
      },
      "outputs": [
        {
          "output_type": "stream",
          "name": "stdout",
          "text": [
            "Digite um número qualquer: 4\n",
            "Digite um número qualquer: 80\n",
            "80.0 - 4.0 = 76.0\n"
          ]
        }
      ],
      "source": [
        "# Algoritmo que calcula a diferença do maior número pelo menor\n",
        "\n",
        "# Entrada do número um e dois\n",
        "n1 = float(input(\"Digite um número qualquer: \"))\n",
        "n2 = float(input(\"Digite um número qualquer: \"))\n",
        "\n",
        "if n1 > n2:\n",
        "  # Verifica se o número um é maior que o número dois\n",
        "  sub = n1 - n2\n",
        "  print(f\"{n1} - {n2} = {sub}\")\n",
        "elif n2 > n1:\n",
        "  # Verifica se o número dois é maior que o número um\n",
        "  sub = n2 - n1\n",
        "  print(f\"{n2} - {n1} = {sub}\")\n",
        "else:\n",
        "  # Se ambos os números forem iguais\n",
        "  print(f\"{n2} é igual a {n1}\")"
      ]
    },
    {
      "cell_type": "markdown",
      "source": [
        "2 - Faça um algoritmo em Python para ler dois números. Se os números forem iguais escrever a mensagem: \"NÚMEROS IGUAIS\" e encerrar a execução; caso contrário, escrever o de maior valor."
      ],
      "metadata": {
        "id": "s8lBBzqsuCVO"
      }
    },
    {
      "cell_type": "code",
      "source": [
        "# Algoritmo que verifica se dois números são iguais, se não imprime o maior\n",
        "\n",
        "# Entrada do número um e dois\n",
        "n1 = float(input(\"Digite um número qualquer: \"))\n",
        "n2 = float(input(\"Digite um número qualquer: \"))\n",
        "\n",
        "if n1 > n2:\n",
        "  # Verifica se o número um é maior que o número dois\n",
        "  print(n1)\n",
        "elif n2 > n1:\n",
        "  # Verifica se o número dois é maior que o número um\n",
        "  print(n2)\n",
        "else:\n",
        "  # Se ambos os números forem iguais\n",
        "  print(\"\\nNÚMEROS IGUAIS\")"
      ],
      "metadata": {
        "colab": {
          "base_uri": "https://localhost:8080/"
        },
        "id": "L1INu7sluGeW",
        "outputId": "f25ce69c-9494-4740-89f7-9b607c50ec06"
      },
      "execution_count": null,
      "outputs": [
        {
          "output_type": "stream",
          "name": "stdout",
          "text": [
            "Digite um número qualquer: 1\n",
            "Digite um número qualquer: 4\n",
            "4.0\n"
          ]
        }
      ]
    },
    {
      "cell_type": "markdown",
      "source": [
        "3 - Faça um algoritmo em Python para ler dois valores: NUM1 e NUM2, e se NUM1 for maior que NUM2 executa a soma de NUM1 e NUM2; caso contrário, executa uma subtração."
      ],
      "metadata": {
        "id": "tUkas0oouu_1"
      }
    },
    {
      "cell_type": "code",
      "source": [
        "# Algoritmo verifica se um numero é maior que outro, se verdadeiro executa a soma, se falso subtrai\n",
        "\n",
        "# Entradas do primeiro e segundo número\n",
        "n1 = float(input(\"Digite o 1° número: \"))\n",
        "n2 = float(input(\"Digite o 2° número: \"))\n",
        "\n",
        "if n1 > n2:\n",
        "  # Soma se o número 1 for maior que o número 2\n",
        "  soma = n1 + n2\n",
        "  print(f\"A soma é igual a {soma}\")\n",
        "else:\n",
        "  # Subtrai se n1 for menor que n2\n",
        "  sub = n2 - n1\n",
        "  print(f\"A subtração é igual a {sub}\")\n"
      ],
      "metadata": {
        "colab": {
          "base_uri": "https://localhost:8080/"
        },
        "id": "fzyK6oQXutqY",
        "outputId": "a024cbf9-5e61-4c8a-8698-18d99dad8613"
      },
      "execution_count": null,
      "outputs": [
        {
          "output_type": "stream",
          "name": "stdout",
          "text": [
            "Digite o 1° número: 1\n",
            "Digite o 2° número: 5\n",
            "A subtração é igual a -4.0\n"
          ]
        }
      ]
    },
    {
      "cell_type": "markdown",
      "source": [
        "O hotel Pica-Pau cobra R$ 150,00 a diária e mais uma taxa de serviços. A taxa de serviços é de:\n",
        "\n",
        "* R$ 15 por dia, se número de diárias < 15\n",
        "\n",
        "* R$ 10 por dia, se número de diárias = 15\n",
        "\n",
        "* R$ 5 por dia, se número de diárias > 15\n",
        "\n",
        "Faça um algoritmo em Python que lê o número de diárias e calcula o total a ser pago pelo cliente."
      ],
      "metadata": {
        "id": "ObpEM4lVvz7V"
      }
    },
    {
      "cell_type": "code",
      "source": [
        "# Algoritmo que calcula o total a ser pago por um cliente em um hotel\n",
        "\n",
        "# Constante\n",
        "vlr_diaria = 150.00\n",
        "\n",
        "# Entrada, quantidade de dias\n",
        "qtd_dias = int(input(\"Informe quantos dias o cliente passará no hotel: \"))\n",
        "\n",
        "if qtd_dias < 15:\n",
        "  # Calcula taxa de serviços\n",
        "  taxa_servico = 15 * qtd_dias\n",
        "  # Calcula total\n",
        "  total = qtd_dias * vlr_diaria + taxa_servico\n",
        "  # Imprime valor final\n",
        "  print(f\"\\nO valor total será: R${total}\")\n",
        "elif qtd_dias == 15:\n",
        "  # Calcula taxa de serviços\n",
        "  taxa_servico = 10 * qtd_dias\n",
        "  # Calcula total\n",
        "  total = qtd_dias * vlr_diaria + taxa_servico\n",
        "  # Imprime valor final\n",
        "  print(f\"\\nO valor total será: R${total}\")\n",
        "else:\n",
        "  # Calcula taxa de serviços\n",
        "  taxa_servico = 5 * qtd_dias\n",
        "  # Calcula total\n",
        "  total = qtd_dias * vlr_diaria + taxa_servico\n",
        "  # Imprime valor final\n",
        "  print(f\"\\nO valor total será: R${total}\")"
      ],
      "metadata": {
        "colab": {
          "base_uri": "https://localhost:8080/"
        },
        "id": "b2Dc9v_jv9Tt",
        "outputId": "482c6060-a0d7-4fea-cdb8-e351d3089af2"
      },
      "execution_count": null,
      "outputs": [
        {
          "output_type": "stream",
          "name": "stdout",
          "text": [
            "Informe quantos dias o cliente passará no hotel: 10\n",
            "\n",
            "O valor total será: R$1650.0\n"
          ]
        }
      ]
    },
    {
      "cell_type": "markdown",
      "source": [
        "5 - Escrever um programa em Python que lê as 3 notas obtidas por ele em provas. Para cada aluno, calcular a média de aproveitamento, usando a fórmula:\n",
        "\n",
        "* **MA = (Nl + N2 + N3) / 3**\n",
        "\n",
        "A atribuição de conceitos obedece à tabela abaixo:\n",
        "\n",
        "**Média de Aproveitamento Conceito**\n",
        "\n",
        "*  >= 9.0 A\n",
        "*  >= 7.5 e < 9.0 B\n",
        "*  >= 6.0 e < 7.5 C\n",
        "*  >= 4.0 e < 6.0 D\n",
        "*  < 4.0 E\n",
        "\n",
        "O programa deve escrever as notas, a média de aproveitamento, o conceito\n",
        "correspondente e a mensagem: \"APROVADO\" se o conceito for A, B, ou C e\n",
        "\"REPROVADO\" se conceito for D ou E."
      ],
      "metadata": {
        "id": "S5BLNTBqyDtK"
      }
    },
    {
      "cell_type": "code",
      "source": [
        "# Algoritmo que calcula a média de tres notas\n",
        "\n",
        "# Entradas das notas\n",
        "n1 = float(input(\"Digite a 1° nota: \"))\n",
        "n2 = float(input(\"Digite a 2° nota: \"))\n",
        "n3 = float(input(\"Digite a 3° nota: \"))\n",
        "\n",
        "# Calcula média\n",
        "med = (n1 + n2 + n3) / 3\n",
        "\n",
        "if med >= 9:\n",
        "  # Se a média for maior ou igual a 9\n",
        "  print(f\"\\nO aluno obteve as notas {n1}, {n2} e {n3}.\")\n",
        "  print(f\"Ficou com média: {round(med,2)}\")\n",
        "  print(f\"Ficou com conceito: A\")\n",
        "  print(f\"Status: Aprovado\")\n",
        "elif med <= 9 and med > 7.5:\n",
        "  # Se a média estiver entre 9 e for maior que 7,5\n",
        "  print(f\"\\nO aluno obteve as notas {n1}, {n2} e {n3}.\")\n",
        "  print(f\"Ficou com média: {round(med,2)}\")\n",
        "  print(f\"Ficou com conceito: B\")\n",
        "  print(f\"Status: Aprovado\")\n",
        "elif med <= 7.5 and med > 6:\n",
        "  # Se a média for igual a 7,5 e maior que 6\n",
        "  print(f\"\\nO aluno obteve as notas {n1}, {n2} e {n3}.\")\n",
        "  print(f\"Ficou com média: {round(med,2)}\")\n",
        "  print(f\"Ficou com conceito: C\")\n",
        "  print(f\"Status: Aprovado\")\n",
        "elif med <= 6 and med > 4:\n",
        "  print(f\"\\nO aluno obteve as notas {n1}, {n2} e {n3}.\")\n",
        "  print(f\"Ficou com média: {round(med,2)}\")\n",
        "  print(f\"Ficou com conceito: D\")\n",
        "  print(f\"Status: Reprovado\")\n",
        "else:\n",
        "  print(f\"\\nO aluno obteve as notas {n1}, {n2} e {n3}.\")\n",
        "  print(f\"Média: {round(med,2)}\")\n",
        "  print(f\"Conceito: E\")\n",
        "  print(f\"Status: Reprovado\")\n"
      ],
      "metadata": {
        "colab": {
          "base_uri": "https://localhost:8080/"
        },
        "id": "EJp4u3m_yhu6",
        "outputId": "5b8c9eec-efe0-40de-ab32-f7a395b40a9c"
      },
      "execution_count": null,
      "outputs": [
        {
          "output_type": "stream",
          "name": "stdout",
          "text": [
            "Digite a 1° nota: 8\n",
            "Digite a 2° nota: 9\n",
            "Digite a 3° nota: 7\n",
            "\n",
            "O aluno obteve as notas 8.0, 9.0 e 7.0.\n",
            "Ficou com média: 8.0\n",
            "Ficou com conceito: B\n",
            "Status: Aprovado\n"
          ]
        }
      ]
    },
    {
      "cell_type": "markdown",
      "source": [
        "6 - Faça um programa em Python que leia a altura e o sexo de uma pessoa, calcule seu peso ideal, utilizando as seguintes fórmulas:\n",
        "\n",
        "* homens : (72,7*altura) –58\n",
        "* mulheres : (62,1*altura) – 44,7"
      ],
      "metadata": {
        "id": "6f6Y4Akk1aDv"
      }
    },
    {
      "cell_type": "code",
      "source": [
        "# Algoritmo que calcula o peso ideal de uma pessoa\n",
        "\n",
        "sexo = input(\"Digite seu sexo: \")\n",
        "altura = float(input(\"Digite a sua altura: \"))\n",
        "\n",
        "if sexo == \"Masculino\" or sexo == \"MASCULINO\" or sexo == \"masculino\":\n",
        "  peso = 72.7 * altura - 58\n",
        "  print(f\"\\nSeu peso ideal é {peso}Kg\")\n",
        "elif sexo == \"Feminino\" or sexo == \"FEMININO\" or sexo == \"feminino\":\n",
        "  peso = 62.1 * altura - 44.7\n",
        "  print(f\"\\nSeu peso ideal é {peso}Kg\")\n"
      ],
      "metadata": {
        "colab": {
          "base_uri": "https://localhost:8080/"
        },
        "id": "NgAnEPbR1iEO",
        "outputId": "0199f480-9377-44d6-be83-e6be1f1e7789"
      },
      "execution_count": null,
      "outputs": [
        {
          "output_type": "stream",
          "name": "stdout",
          "text": [
            "Digite seu sexo: masculino\n",
            "Digite a sua altura: 1.70\n",
            "\n",
            "Seu peso ideal é 65.59Kg\n"
          ]
        }
      ]
    },
    {
      "cell_type": "markdown",
      "source": [
        "7 - Escrever um programa em Python que lê os seguintes dados de um funcionário: o\n",
        "número de horas trabalhadas e o valor que recebe por hora. Calcular e escrever, o salário bruto (SB) e o valor de desconto do Imposto de Renda (IR) como segue:\n",
        "\n",
        "* Se SB > 3.500,00 então IR = 15% do SB\n",
        "* Se SB > 1.500,00 e SB <= 3.500,00 então IR = 8% do SB\n",
        "* Se SB <= 1.500,00 então IR = 0."
      ],
      "metadata": {
        "id": "hrF8cH3z2jHe"
      }
    },
    {
      "cell_type": "code",
      "source": [
        "# Algoritmo que calcula o salário bruto e o valor de desconto do Imposto de Renda\n",
        "\n",
        "vlr_hora = float(input(\"Digite o valor da hora do colaborador: \"))\n",
        "horas_trabalhadas = float(input(\"Digite o número de horas trabalhadas: \"))\n",
        "\n",
        "sal_bruto = vlr_hora * horas_trabalhadas\n",
        "\n",
        "if sal_bruto > 3500.00:\n",
        "  imp = sal_bruto * 0.15\n",
        "  print(f\"\\nSalário Bruto: R${sal_bruto}\")\n",
        "  print(f\"Imposto: R${imp}\")\n",
        "elif sal_bruto > 1500 and sal_bruto <= 1500:\n",
        "  imp = sal_bruto * 0.8\n",
        "  print(f\"\\nSalário Bruto: R${sal_bruto}\")\n",
        "  print(f\"Imposto: R${imp}\")\n",
        "else:\n",
        "  imp = sal_bruto * 0\n",
        "  print(f\"\\nSalário Bruto: R${sal_bruto}\")\n",
        "  print(f\"Imposto: R${imp}\")\n",
        "\n"
      ],
      "metadata": {
        "colab": {
          "base_uri": "https://localhost:8080/"
        },
        "id": "pATJzYUt2oYO",
        "outputId": "0f46e7af-b29b-4773-9bfb-bed246382bab"
      },
      "execution_count": null,
      "outputs": [
        {
          "output_type": "stream",
          "name": "stdout",
          "text": [
            "Digite o valor da hora do colaborador: 17\n",
            "Digite o número de horas trabalhadas: 220\n",
            "\n",
            "Salário Bruto: R$3740.0\n",
            "Imposto: R$561.0\n"
          ]
        }
      ]
    }
  ]
}