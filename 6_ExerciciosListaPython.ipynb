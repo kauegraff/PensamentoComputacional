{
  "nbformat": 4,
  "nbformat_minor": 0,
  "metadata": {
    "colab": {
      "provenance": [],
      "authorship_tag": "ABX9TyPvtSllu4E0+naySA8D/5eD",
      "include_colab_link": true
    },
    "kernelspec": {
      "name": "python3",
      "display_name": "Python 3"
    },
    "language_info": {
      "name": "python"
    }
  },
  "cells": [
    {
      "cell_type": "markdown",
      "metadata": {
        "id": "view-in-github",
        "colab_type": "text"
      },
      "source": [
        "<a href=\"https://colab.research.google.com/github/kauegraff/PensamentoComputacional/blob/main/6_ExerciciosListaPython.ipynb\" target=\"_parent\"><img src=\"https://colab.research.google.com/assets/colab-badge.svg\" alt=\"Open In Colab\"/></a>"
      ]
    },
    {
      "cell_type": "markdown",
      "source": [
        "#Exercícios com Listas em Python\n",
        "###Os exercícios abordam diferentes aspectos como leitura, verificação, filtragem e processamento de dados."
      ],
      "metadata": {
        "id": "enuMSRRYmIN5"
      }
    },
    {
      "cell_type": "markdown",
      "source": [
        "##Exercício 1 – Array de 5 Nomes\n",
        "\n",
        "**Objetivo:** Ler 5 nomes de pessoas quaisquer. Exibir todos os nomes do primeiro ao último.\n",
        "\n",
        "***Exemplo de entrada/saída:***\n",
        "\n",
        "**Entrada**:\n",
        "\n",
        "* Rogério\n",
        "* Amanda\n",
        "* Luiz\n",
        "* Juliana\n",
        "* Carlos\n",
        "\n",
        "**Saída**:\n",
        "\n",
        "* Rogério\n",
        "* Amanda\n",
        "* Luiz\n",
        "* Juliana\n",
        "* Carlos"
      ],
      "metadata": {
        "id": "B-hjQ0pBmOLL"
      }
    },
    {
      "cell_type": "code",
      "execution_count": null,
      "metadata": {
        "colab": {
          "base_uri": "https://localhost:8080/"
        },
        "id": "IAjBevX-l-wZ",
        "outputId": "e3a44c5e-6b73-4ef7-ee42-39b630667613"
      },
      "outputs": [
        {
          "output_type": "stream",
          "name": "stdout",
          "text": [
            "Digite um nome qualquer: Rogério\n",
            "Digite um nome qualquer: Amanda\n",
            "Digite um nome qualquer: Luiz\n",
            "Digite um nome qualquer: Juliana\n",
            "Digite um nome qualquer: Carlos\n",
            "\n",
            "\n",
            "Rogério\n",
            "Amanda\n",
            "Luiz\n",
            "Juliana\n",
            "Carlos\n"
          ]
        }
      ],
      "source": [
        "# Algoritmo que lê 5 nomes e exibe todos eles\n",
        "\n",
        "# Iniciando a lista\n",
        "nomes = []\n",
        "\n",
        "# Loop para o usuário digitar os 5 nomes\n",
        "for x in range(1, 6):\n",
        "  nome = input(\"Digite um nome qualquer: \")\n",
        "  # Adiciona o nome na lista\n",
        "  nomes.append(nome)\n",
        "# Print para separar os inputs da lista de nomes\n",
        "print(\"\\n\")\n",
        "# Imprime os nomes\n",
        "for nome in nomes:\n",
        "  print(nome)"
      ]
    },
    {
      "cell_type": "markdown",
      "source": [
        "##Exercício 2 – Lista com Quantidade Informada\n",
        "**Objetivo:** Perguntar ao usuário quantos nomes ele irá informar. Ler os nomes e exibi-los na mesma ordem.\n",
        "\n",
        "***Exemplo de entrada/saída:***\n",
        "\n",
        "**Entrada**:\n",
        "* 7\n",
        "* Rogério\n",
        "* Amanda\n",
        "* Luiz\n",
        "* Juliana\n",
        "* Carlos\n",
        "* Ana\n",
        "* Armando\n",
        "\n",
        "**Saída**:\n",
        "* Rogério\n",
        "* Amanda\n",
        "* Luiz\n",
        "* Juliana\n",
        "* Carlos\n",
        "* Ana\n",
        "* Armando"
      ],
      "metadata": {
        "id": "9_XmYbhooLI_"
      }
    },
    {
      "cell_type": "code",
      "source": [
        "# Algoritmo que lê quantos nomes serão informados pelo usuário e imprime os nomes lidos\n",
        "\n",
        "# Iniciando a lista e variáveis\n",
        "nomes = []\n",
        "cont = 0\n",
        "\n",
        "# Entrada da quantidade de nomes a serem lidos\n",
        "Qtd_nomes = int(input(\"Quantos nomes você deseja informar: \"))\n",
        "\n",
        "# Loop para ler os nomes\n",
        "while cont != Qtd_nomes:\n",
        "  nome = input(\"Digite um nome:\")\n",
        "  nomes.append(nome)\n",
        "  cont += 1\n",
        "\n",
        "# Print para quebrar uma linha\n",
        "print(\"\\n\")\n",
        "\n",
        "# Loop para imprimir os nomes\n",
        "for nome in nomes:\n",
        "  print(nome)\n"
      ],
      "metadata": {
        "colab": {
          "base_uri": "https://localhost:8080/"
        },
        "id": "dyfmVWIPpPeR",
        "outputId": "7d3e8ea4-c360-4cc3-daf4-c21b0c031072"
      },
      "execution_count": null,
      "outputs": [
        {
          "output_type": "stream",
          "name": "stdout",
          "text": [
            "Quantos nomes você deseja informar: 7\n",
            "Digite um nome:Rogério\n",
            "Digite um nome:Amanda\n",
            "Digite um nome:Luiz\n",
            "Digite um nome:Juliana\n",
            "Digite um nome:Carlos\n",
            "Digite um nome:Ana\n",
            "Digite um nome:Armando\n",
            "\n",
            "\n",
            "Rogério\n",
            "Amanda\n",
            "Luiz\n",
            "Juliana\n",
            "Carlos\n",
            "Ana\n",
            "Armando\n"
          ]
        }
      ]
    },
    {
      "cell_type": "markdown",
      "source": [
        "##Exercício 3 – Times de Futebol\n",
        "\n",
        "**Objetivo:** Ler uma lista com nomes de times (-quantidade definida pelo usuário). Exibir: o primeiro time, o time do meio e o último time.\n",
        "\n",
        "Exemplo 1: (7 times)\n",
        "**Entrada:**\n",
        "\n",
        "Grêmio, Inter, Palmeiras, Fluminense, Botafogo, Aimoré, Flamengo\n",
        "\n",
        "**Saída:**\n",
        "\n",
        "* Grêmio (primeiro)\n",
        "* Fluminense (meio)\n",
        "* Flamengo (último)\n",
        "\n",
        "Exemplo 2: (8 times)\n",
        "\n",
        "**Entrada:**\n",
        "\n",
        "Grêmio, Inter, Palmeiras, Fluminense, Botafogo, Aimoré, Flamengo, Corinthians\n",
        "\n",
        "**Saída:**\n",
        "* Grêmio (primeiro)\n",
        "* Fluminense/Botafogo (meio)\n",
        "* Corinthians (último)"
      ],
      "metadata": {
        "id": "j-GtatPNsHwL"
      }
    },
    {
      "cell_type": "code",
      "source": [
        "# Algoritmo que lê uma lista de nomes de times de futebol imprimindo o primeiro time, o do meio e o último\n",
        "\n",
        "# Loop para verificar a quantidade de times que o usuário deseja escrever\n",
        "while True:\n",
        "  # Entrada\n",
        "  Qtd_times = int(input(\"Digite quantos times você deseja escrever: \"))\n",
        "  # Verifica se a quantidade de time é maior que zero, caso contrário repete o loop\n",
        "  if Qtd_times > 0:\n",
        "    break\n",
        "  else:\n",
        "    print(\"Valor fora do intervalo! Inserir números maiores do que 2!\")\n",
        "\n",
        "cont = 0 # Varíavel contadora\n",
        "times = [] # Lista de times\n",
        "\n",
        "# Loop que executa enquanto o contador for diferente da quantidade de times\n",
        "while cont != Qtd_times:\n",
        "  # Entrada nome do time\n",
        "  time = input(\"Digite o nome do time: \")\n",
        "  # Adiciona o time na lista de times\n",
        "  times.append(time)\n",
        "  # Soma variavel contadora\n",
        "  cont += 1\n",
        "\n",
        "# Verifica se a quantidade é par ou ímpar\n",
        "if len(times) % 2 == 0:\n",
        "  # Calcula o meio da lista\n",
        "  meio_indice = len(times) // 2\n",
        "  # Seleciona o primeiro elemento\n",
        "  elemento_meio1 = times[meio_indice]\n",
        "  # Seleciona o segundo elemento que faz parte do meio\n",
        "  elemento_meio2 = times[meio_indice - 1]\n",
        "else:\n",
        "  # Calcula o meio da lista\n",
        "  meio_indice = len(times) // 2\n",
        "  # Seleciona o meio da lista\n",
        "  elemento_meio = times[meio_indice]\n",
        "\n",
        "#Imprime os valores\n",
        "\n",
        "print(f'\\n{times[0]} (Primeiro)')\n",
        "print(f'{elemento_meio1}/{elemento_meio2} (Meio)' )\n",
        "print(f'{times[-1]} (Último)')\n"
      ],
      "metadata": {
        "colab": {
          "base_uri": "https://localhost:8080/"
        },
        "id": "cCpjj3XXs7Jd",
        "outputId": "f15055e9-23c1-4258-f2f4-d2368a43899e"
      },
      "execution_count": null,
      "outputs": [
        {
          "output_type": "stream",
          "name": "stdout",
          "text": [
            "Digite quantos times você deseja escrever: 0\n",
            "Valor fora do intervalo! Inserir números maiores do que zero!\n",
            "Digite quantos times você deseja escrever: 0\n",
            "Valor fora do intervalo! Inserir números maiores do que zero!\n",
            "Digite quantos times você deseja escrever: 4\n",
            "Digite o nome do time: Inter\n",
            "Digite o nome do time: Gremio\n",
            "Digite o nome do time: Botafogo\n",
            "Digite o nome do time: Flamengo\n",
            "\n",
            "Inter (Primeiro)\n",
            "Botafogo/Gremio (Meio)\n",
            "Flamengo (Último)\n"
          ]
        }
      ]
    },
    {
      "cell_type": "markdown",
      "source": [
        "##Exercício 4 – Exibir Números (Ordem Normal)\n",
        "\n",
        "**Objetivo:** Ler uma lista de números quaisquer. Exibir os números do primeiro ao último.\n",
        "\n",
        "Exemplo de entrada/saída:\n",
        "\n",
        "**Entrada:**\n",
        "* 7\n",
        "* 4\n",
        "* 7\n",
        "* 2\n",
        "* 1\n",
        "\n",
        "**Saída:**\n",
        "\n",
        "* 7\n",
        "* 4\n",
        "* 7\n",
        "* 2\n",
        "* 1"
      ],
      "metadata": {
        "id": "MdHLqJXMC9uD"
      }
    },
    {
      "cell_type": "code",
      "source": [
        "# Algoritmo que motra uma lista de números em sua ordem normal\n",
        "\n",
        "# Inicia a lista de números vazia\n",
        "lista = []\n",
        "\n",
        "# Loop para perguntar o número enquanto a entrada for diferente de sair\n",
        "while True:\n",
        "  entrada = input(\"Digite um numero ou sair para parar de digitar!\")\n",
        "  if entrada == \"sair\":\n",
        "    break\n",
        "  # Verifica se o valor digitado é um número\n",
        "  elif entrada.isnumeric():\n",
        "    # Adiciona o número na lista\n",
        "    lista.append(float(entrada))\n",
        "  else:\n",
        "    print(\"Inválido\")\n",
        "\n",
        "print(\"\\n\")\n",
        "# Imprime os números\n",
        "for num in lista:\n",
        "  print(num)"
      ],
      "metadata": {
        "colab": {
          "base_uri": "https://localhost:8080/"
        },
        "id": "3G_JI0BWD9zo",
        "outputId": "a9c264ee-2fc8-4240-e4d3-976b0d7e5ca1"
      },
      "execution_count": 1,
      "outputs": [
        {
          "output_type": "stream",
          "name": "stdout",
          "text": [
            "Digite um numero ou sair para parar de digitar!4\n",
            "Digite um numero ou sair para parar de digitar!2\n",
            "Digite um numero ou sair para parar de digitar!1\n",
            "Digite um numero ou sair para parar de digitar!5\n",
            "Digite um numero ou sair para parar de digitar!6\n",
            "Digite um numero ou sair para parar de digitar!7\n",
            "Digite um numero ou sair para parar de digitar!sair\n",
            "\n",
            "\n",
            "4.0\n",
            "2.0\n",
            "1.0\n",
            "5.0\n",
            "6.0\n",
            "7.0\n"
          ]
        }
      ]
    },
    {
      "cell_type": "markdown",
      "source": [
        "## Exercício 5 – Exibir Números (Ordem Inversa)\n",
        "\n",
        "**Objetivo**:\n",
        "Ler uma lista de números. Exibir os números do último para o primeiro.\n",
        "Exemplo de entrada/saída:\n",
        "\n",
        "**Entrada:**\n",
        "\n",
        "* 7\n",
        "* 4\n",
        "* 7\n",
        "* 2\n",
        "* 1\n",
        "* 8\n",
        "* 9\n",
        "* 4\n",
        "* 11\n",
        "\n",
        "**Saída:**\n",
        "* 11\n",
        "* 4\n",
        "* 9\n",
        "* 8\n",
        "* 1\n",
        "* 2\n",
        "* 7\n",
        "* 4\n",
        "* 7"
      ],
      "metadata": {
        "id": "10H2lirsET8p"
      }
    },
    {
      "cell_type": "code",
      "source": [
        "# Algoritmo que inverte a ordem de uma lista de números\n",
        "\n",
        "# Inicia a lista vazia\n",
        "lista = []\n",
        "\n",
        "# Loop para o usuário digitar o número\n",
        "while True:\n",
        "  entrada = input(\"Digite um número ou sair para parar digitar!\")\n",
        "  if entrada == \"sair\":\n",
        "    break\n",
        "  elif entrada.isnumeric():\n",
        "    lista.append(float(entrada))\n",
        "  else:\n",
        "    print(\"Inválida!\")\n",
        "\n",
        "# Variável que armazena o tamanho da lista\n",
        "quantidade = len(lista)\n",
        "\n",
        "print(\"\\n\")\n",
        "\n",
        "# Loop para inverter a lista\n",
        "for item in range(1, quantidade+1): # Método universal para todas linguagens para inverter a lista\n",
        "  print(lista[quantidade-item])"
      ],
      "metadata": {
        "colab": {
          "base_uri": "https://localhost:8080/"
        },
        "id": "ccZ6JzFbEJ3D",
        "outputId": "671fd050-e7c6-45c2-a679-469fe6ceab18"
      },
      "execution_count": 3,
      "outputs": [
        {
          "output_type": "stream",
          "name": "stdout",
          "text": [
            "Digite um número ou sair para parar digitar!1\n",
            "Digite um número ou sair para parar digitar!2\n",
            "Digite um número ou sair para parar digitar!3\n",
            "Digite um número ou sair para parar digitar!4\n",
            "Digite um número ou sair para parar digitar!5\n",
            "Digite um número ou sair para parar digitar!6\n",
            "Digite um número ou sair para parar digitar!7\n",
            "Digite um número ou sair para parar digitar!8\n",
            "Digite um número ou sair para parar digitar!sair\n",
            "\n",
            "\n",
            "8.0\n",
            "7.0\n",
            "6.0\n",
            "5.0\n",
            "4.0\n",
            "3.0\n",
            "2.0\n",
            "1.0\n"
          ]
        }
      ]
    },
    {
      "cell_type": "markdown",
      "source": [
        "## Exercício 6 – Exibir Números Pulando de 2 em 2\n",
        "**Objetivo:** Ler uma lista de números. Exibir os números do primeiro ao último, pulando de dois em dois.\n",
        "\n",
        "Exemplo 1:\n",
        "\n",
        "**Entrada:**\n",
        "* 8\n",
        "* 8\n",
        "* 3\n",
        "* 7\n",
        "* 0\n",
        "* 2\n",
        "* 9\n",
        "* 5\n",
        "* 2\n",
        "\n",
        "**Saída:**\n",
        "\n",
        "* 8\n",
        "* 7\n",
        "* 2\n",
        "* 5"
      ],
      "metadata": {
        "id": "TxbaWzZBFB9w"
      }
    },
    {
      "cell_type": "code",
      "source": [
        "# Algoritmo que lê uma lista de valores e pula de dois em dois\n",
        "\n",
        "# Inicia a lista\n",
        "lista = []\n",
        "\n",
        "# Loop para o usuário digitar o valor\n",
        "while True:\n",
        "  num = input(\"Digite um número qualquer ou 'Sair' para finalizar a execução: \")\n",
        "  # Verifica se a entrada é igual a sair\n",
        "  if num == \"Sair\" or num == \"sair\":\n",
        "    break\n",
        "  # Verifica se a entrada é um número\n",
        "  elif num.isnumeric():\n",
        "    # Adiciona o número na lista\n",
        "    lista.append(float(num))\n",
        "  else:\n",
        "    print(\"Valor Inválido! Tente novamente\")\n",
        "\n",
        "print(\"\\n\")\n",
        "# Loop que imprime os números da lista de dois em dois\n",
        "for item in lista[0::2]:\n",
        "  print(item)"
      ],
      "metadata": {
        "colab": {
          "base_uri": "https://localhost:8080/"
        },
        "id": "LSLoeLPx93ie",
        "outputId": "dd773c1e-71dc-46a8-f103-76ba546f30c0"
      },
      "execution_count": 8,
      "outputs": [
        {
          "output_type": "stream",
          "name": "stdout",
          "text": [
            "Digite um número qualquer ou 'Sair' para finalizar a execução: 1\n",
            "Digite um número qualquer ou 'Sair' para finalizar a execução: 2\n",
            "Digite um número qualquer ou 'Sair' para finalizar a execução: \n",
            "Valor Inválido! Tente novamente\n",
            "Digite um número qualquer ou 'Sair' para finalizar a execução: \n",
            "Valor Inválido! Tente novamente\n",
            "Digite um número qualquer ou 'Sair' para finalizar a execução: 3\n",
            "Digite um número qualquer ou 'Sair' para finalizar a execução: 4\n",
            "Digite um número qualquer ou 'Sair' para finalizar a execução: 5\n",
            "Digite um número qualquer ou 'Sair' para finalizar a execução: 6\n",
            "Digite um número qualquer ou 'Sair' para finalizar a execução: 7\n",
            "Digite um número qualquer ou 'Sair' para finalizar a execução: 8\n",
            "Digite um número qualquer ou 'Sair' para finalizar a execução: 9\n",
            "Digite um número qualquer ou 'Sair' para finalizar a execução: 10\n",
            "Digite um número qualquer ou 'Sair' para finalizar a execução: sair\n",
            "\n",
            "\n",
            "1.0\n",
            "3.0\n",
            "5.0\n",
            "7.0\n",
            "9.0\n"
          ]
        }
      ]
    },
    {
      "cell_type": "markdown",
      "source": [
        "#Exercício 7 – Exibir Números Inversos Pulando de 3 em 3\n",
        "**Objetivo:** Ler uma lista de números. Exibir os números do último para o primeiro, pulando de três em três.\n",
        "\n",
        "**Exemplo 1:**\n",
        "\n",
        "**Entrada:**\n",
        "\n",
        "* 8\n",
        "* 8\n",
        "* 3\n",
        "* 7\n",
        "* 0\n",
        "* 2\n",
        "* 9\n",
        "* 5\n",
        "* 2\n",
        "\n",
        "Saída:\n",
        "\n",
        "* 2\n",
        "* 2\n",
        "* 3"
      ],
      "metadata": {
        "id": "JTHHyHDf_gjq"
      }
    },
    {
      "cell_type": "code",
      "source": [
        "# Algoritmo que lê uma lista e itera de três em três\n",
        "\n",
        "lista = []\n",
        "qtd = int(input(\"Digite quantos números você deseja informar\"))\n",
        "cont = 0\n",
        "while cont != qtd:\n",
        "  # Entrada da idade\n",
        "  num = input(\"Digite o número: \")\n",
        "  if num.isnumeric(): # Verifica se a entrada é um número\n",
        "    lista.append(int(num)) # Adiciona na lista\n",
        "    cont += 1 # Soma mais um no contador\n",
        "  else:\n",
        "    print(\"Valor inválido! Tente novamente\")\n",
        "# Itera sobre cada item da lista de três em três\n",
        "for item in lista[0::3]:\n",
        "  print(item)"
      ],
      "metadata": {
        "colab": {
          "base_uri": "https://localhost:8080/"
        },
        "id": "QOLchoRM_kt1",
        "outputId": "35e351fa-68df-48ee-886e-be75cde93d6d"
      },
      "execution_count": 27,
      "outputs": [
        {
          "output_type": "stream",
          "name": "stdout",
          "text": [
            "Digite quantos números você deseja informar9\n",
            "Digite o número: 2\n",
            "Digite o número: 3\n",
            "Digite o número: 4\n",
            "Digite o número: 5\n",
            "Digite o número: 6\n",
            "Digite o número: 7\n",
            "Digite o número: 8\n",
            "Digite o número: 9\n",
            "Digite o número: 2\n",
            "2\n",
            "5\n",
            "8\n"
          ]
        }
      ]
    },
    {
      "cell_type": "markdown",
      "source": [
        "# Exercício 8 – Exibir a Partir do Meio\n",
        "**Objetivo:** Ler uma lista de números (com quantidade definida pelo usuário)Exibir os números do meio ao primeiro e, depois, do meio ao último. Se a lista for par, não há um único valor central.\n",
        "*Exemplo 1: (5 números)*\n",
        "\n",
        "**Entrada:**\n",
        "* 8\n",
        "* 3\n",
        "* 7\n",
        "* 0\n",
        "* 2\n",
        "  \n",
        "**Saída:**\n",
        "* 7\n",
        "* 3\n",
        "* 8\n",
        "* 7\n",
        "* 0\n",
        "* 2\n",
        "  \n",
        "*Exemplo 2: (6 números)*\n",
        "\n",
        "**Entrada:**\n",
        "* 8\n",
        "* 3\n",
        "* 7\n",
        "* 0\n",
        "* 2\n",
        "* 9\n",
        "\n",
        "**Saída:**\n",
        "* 7\n",
        "* 3\n",
        "* 8\n",
        "* 0\n",
        "* 2\n",
        "* 9"
      ],
      "metadata": {
        "id": "S2dD2RqWAvUY"
      }
    },
    {
      "cell_type": "code",
      "source": [
        "# Algoritmo que lê um lista a partir de seu meio\n",
        "\n",
        "Qtd = int(input(\"Defina o tamanho da lista: \")) # Entrada do usuário\n",
        "cont = 0 # Variável contadora\n",
        "lista = [] # Lista vazia\n",
        "\n",
        "# Loop para pedir um número a quantidade de vezes que o usuário deseja\n",
        "while Qtd != cont:\n",
        "  num = input(\"Digite um número: \") # Entrada do número\n",
        "  lista.append(num) # Adiciona o número na lista\n",
        "  cont += 1 # Soma mais um na variável contadora\n",
        "\n",
        "# Pega o tamnho da lista\n",
        "tamanho = len(lista)\n",
        "\n",
        "posicao_indice = tamanho // 2 + 1\n",
        "# Verifica se o tamanho da lista é ímpar ou par\n",
        "if tamanho % 2 == 0:\n",
        "  # Pega a posição inicial do número\n",
        "  for num in range(posicao_indice, tamanho + 1):\n",
        "    print(lista[tamanho - num])\n",
        "  # Loop para iterar da metade da lista até o fim\n",
        "  for num in range(posicao_indice, tamanho + 1):\n",
        "    print(num)\n",
        "# Se o número for ímpar\n",
        "else:\n",
        "  print(\"\\n\")\n",
        "  # Loop para iterar da metade da lista até o inicio\n",
        "  for num in range(posicao_indice, tamanho + 1):\n",
        "    print(lista[tamanho - num])\n",
        "  print(\"\\n\")\n",
        "  # Loop para iterar da metade da lista até o fim\n",
        "  for num in range(posicao_indice, tamanho + 1):\n",
        "    print(num)\n",
        "\n",
        "\n",
        "\n"
      ],
      "metadata": {
        "id": "gmckUbXX_z0E",
        "colab": {
          "base_uri": "https://localhost:8080/"
        },
        "outputId": "bfa82740-b7df-4325-a48e-3565fb56ed70"
      },
      "execution_count": 40,
      "outputs": [
        {
          "output_type": "stream",
          "name": "stdout",
          "text": [
            "Defina o tamanho da lista: 6\n",
            "Digite um número: 1\n",
            "Digite um número: 2\n",
            "Digite um número: 3\n",
            "Digite um número: 4\n",
            "Digite um número: 5\n",
            "Digite um número: 6\n",
            "3\n",
            "2\n",
            "1\n",
            "4\n",
            "5\n",
            "6\n"
          ]
        }
      ]
    },
    {
      "cell_type": "markdown",
      "source": [
        "# Exercício 9 – Filtrar Salários\n",
        "**Objetivo:** Ler uma lista de salários. Exibir apenas os salários maiores ou iguais a R$1412,00.\n",
        "\n",
        "*Exemplo 1:*\n",
        "\n",
        "**Entrada:**\n",
        "* 5\n",
        "* 3500.0\n",
        "* 1400.0\n",
        "* 900.2\n",
        "* 1900.2\n",
        "* 899.0\n",
        "\n",
        "**Saída:**\n",
        "* 3500.0\n",
        "* 1900.2"
      ],
      "metadata": {
        "id": "SKAOfcJtjERq"
      }
    },
    {
      "cell_type": "code",
      "source": [
        "# Algoritmo que le salários maiores que 1412\n",
        "\n",
        "# Incia a lista de salários vazia\n",
        "lista_salarios = []\n",
        "cont = 0 # Variável contadora para sair do loop\n",
        "qtd_sal = int(input(\"Quantos salários você deseja informar: \")) # Entrada de quantos salários serão informados\n",
        "\n",
        "while cont != qtd_sal: # Loop que executa enquanto o contador for diferente da quantidade que o usuário informou\n",
        "  sal = input(\"Digite o salário: \") # Entrada\n",
        "  if sal.isnumeric(): # Verifica se é um número\n",
        "    lista_salarios.append(float(sal)) # Adiciona o salário na lista\n",
        "    cont += 1 # Adiciona um na lista\n",
        "  else:\n",
        "    print(\"Valor digitado inválido! Tente novamente\")\n",
        "# Imprime os salários maiores que 1412\n",
        "print(\"\\nOs salários digitados maiores que R$1412,00 são: \")\n",
        "for salario in lista_salarios:\n",
        "  if salario >= 1412.0:\n",
        "    print(salario)"
      ],
      "metadata": {
        "colab": {
          "base_uri": "https://localhost:8080/"
        },
        "id": "1tqze_7SjM6a",
        "outputId": "f031aa86-a051-4165-9c46-cbb758566b37"
      },
      "execution_count": 48,
      "outputs": [
        {
          "output_type": "stream",
          "name": "stdout",
          "text": [
            "Quantos salários você deseja informar: 4\n",
            "Digite o salário: 100\n",
            "Digite o salário: 2000\n",
            "Digite o salário: 5000\n",
            "Digite o salário: 3500\n",
            "\n",
            "Os salários digitados maiores que R$1412,00 são: \n",
            "2000.0\n",
            "5000.0\n",
            "3500.0\n"
          ]
        }
      ]
    },
    {
      "cell_type": "markdown",
      "source": [
        "# Exercício 10 – Notas dos Alunos (Separar Aprovação)\n",
        "**Objetivo:** Ler uma lista de notas. Exibir primeiro as notas que alcançaram a média (≥ 7.0) e depois as que não alcançaram.\n",
        "*Exemplo:*\n",
        "\n",
        "**Entrada:**\n",
        "\n",
        "10\n",
        "9.0\n",
        "7.0\n",
        "7.5\n",
        "6.5\n",
        "8.0\n",
        "5.9\n",
        "7.2\n",
        "6.9\n",
        "10\n",
        "8.5\n",
        "\n",
        "**Saída:**\n",
        "\n",
        "Notas com média: 9.0, 7.0, 7.5, 8.0, 7.2, 10, 8.5\n",
        "\n",
        "Notas sem média: 6.5, 5.9, 6.9"
      ],
      "metadata": {
        "id": "zEfRGneuju9B"
      }
    },
    {
      "cell_type": "code",
      "source": [
        "# Algoritmo que lê uma lista de notas e exibe as que estão acima e abaixo da média\n",
        "\n",
        "# Inciando as listas vazias\n",
        "lista_notas = []\n",
        "lista_c_media = []\n",
        "lista_s_media = []\n",
        "# Entrada da quantidade de notas\n",
        "qtd_notas = int(input(\"Quantas notas você deseja informar? \"))\n",
        "cont = 0 # Contador\n",
        "\n",
        "# Loop para executar a quantidade de vezes informadas pelo usuário\n",
        "while cont != qtd_notas:\n",
        "  # Entrada da nota\n",
        "  nota = input(\"Digite a nota: \")\n",
        "  # Verifica se a nota é um numero e adiciona na lista\n",
        "  if nota.isnumeric():\n",
        "    lista_notas.append(float(nota))\n",
        "    cont += 1\n",
        "  else:\n",
        "    print(\"Valor inválido! Tente novamente\")\n",
        "\n",
        "# Loop para salvar as notas com média em uma lista e as sem média em outra\n",
        "for nota in lista_notas:\n",
        "  if nota >= 7:\n",
        "    lista_c_media.append(nota)\n",
        "  else:\n",
        "    lista_s_media.append(nota)\n",
        "\n",
        "# Imprime as ntoas\n",
        "print(\"\\nNotas com Média: \")\n",
        "for nota in lista_c_media:\n",
        "  print(nota)\n",
        "\n",
        "print(\"\\nNotas Sem Média: \")\n",
        "for nota in lista_s_media:\n",
        "  print(nota)\n",
        "\n"
      ],
      "metadata": {
        "colab": {
          "base_uri": "https://localhost:8080/"
        },
        "id": "5jLGV43Xj3XA",
        "outputId": "8c731113-45f0-4042-c4f8-f9b083470643"
      },
      "execution_count": 1,
      "outputs": [
        {
          "output_type": "stream",
          "name": "stdout",
          "text": [
            "Quantas notas você deseja informar? 5\n",
            "Digite a nota: 4\n",
            "Digite a nota: 8\n",
            "Digite a nota: 9\n",
            "Digite a nota: 1\n",
            "Digite a nota: 9\n",
            "\n",
            "Notas com Média: \n",
            "8.0\n",
            "9.0\n",
            "9.0\n",
            "\n",
            "Notas Sem Média: \n",
            "4.0\n",
            "1.0\n"
          ]
        }
      ]
    },
    {
      "cell_type": "markdown",
      "source": [
        "# Exercício 11 – Soma de 12 Salários\n",
        "**Objetivo:**\n",
        "Ler uma lista de 12 salários. Calcular e exibir a soma total dos salários.\n",
        "\n",
        "Exemplo:\n",
        "\n",
        "**Entrada:**\n",
        "1900.0, 1850.0, 1900.0, 2100.0, 1900.0, 1800.0, 2000.0, 1900.0, 2100.0, 2200.0,\n",
        "1800.0, 2300.0\n",
        "\n",
        "**Saída:**\n",
        "23750.0"
      ],
      "metadata": {
        "id": "loY6NfjPloSu"
      }
    },
    {
      "cell_type": "code",
      "source": [
        "# Algoritmo que soma salários\n",
        "\n",
        "cont = 0\n",
        "lista_salarios = []\n",
        "\n",
        "while cont <= 12:\n",
        "  sal = input(\"Informe o salário: \")\n",
        "  if sal.isnumeric():\n",
        "    lista_salarios.append(float(sal))\n",
        "    cont += 1\n",
        "  else:\n",
        "    print(\"Valor inválido tente novamente\")\n",
        "\n",
        "ac_salario = 0\n",
        "for sal in lista_salarios:\n",
        "  ac_salario += sal\n",
        "\n",
        "print(ac_salario)"
      ],
      "metadata": {
        "colab": {
          "base_uri": "https://localhost:8080/"
        },
        "id": "QXdjpRdOlrY3",
        "outputId": "b3b6286e-e593-4967-e3bb-681d4ce0ce9d"
      },
      "execution_count": 4,
      "outputs": [
        {
          "output_type": "stream",
          "name": "stdout",
          "text": [
            "Informe o salário: 1000\n",
            "Informe o salário: 1400\n",
            "Informe o salário: 3000\n",
            "Informe o salário: 3400\n",
            "Informe o salário: 4000\n",
            "Informe o salário: 4000\n",
            "Informe o salário: 4500\n",
            "Informe o salário: 3000\n",
            "Informe o salário: 3400\n",
            "Informe o salário: 12000\n",
            "Informe o salário: 12300\n",
            "Informe o salário: 1200\n",
            "Informe o salário: 900\n",
            "54100.0\n"
          ]
        }
      ]
    },
    {
      "cell_type": "markdown",
      "source": [
        "# Exercício 12 – Média de Notas\n",
        "**Objetivo:** Ler uma lista de notas. Calcular e exibir a média de todas as notas.\n",
        "\n",
        "Exemplo:\n",
        "\n",
        "**Entrada:**\n",
        "\n",
        "6\n",
        "9.0\n",
        "7.0\n",
        "7.5\n",
        "6.5\n",
        "8.0\n",
        "5.9\n",
        "\n",
        "**Saída:**\n",
        "\n",
        "7.316666666666667"
      ],
      "metadata": {
        "id": "NaLcFW4FmGgd"
      }
    },
    {
      "cell_type": "code",
      "source": [
        "# Algoritmo que calcula a media de notas\n",
        "\n",
        "# Variaveis e lista\n",
        "count = 0\n",
        "ac_notas = 0\n",
        "lista_notas = []\n",
        "\n",
        "# Entrada da quantidade de notas\n",
        "qtd_notas = int(input(\"Quantas notas você deseja informar: \"))\n",
        "\n",
        "# Loop\n",
        "while count != qtd_notas:\n",
        "  # Entrada da nota\n",
        "  nota = input(\"Digite a nota do aluno: \")\n",
        "  if nota.isnumeric(): # Verifica se nota é um número\n",
        "    lista_notas.append(float(nota)) # Adiciona nota na lista de notas\n",
        "    count += 1 # Soma mais um no contador\n",
        "    ac_notas += float(nota) # Acumulador de notas\n",
        "  else:\n",
        "    print(\"Valor inválido! Tente novamente!\")\n",
        "\n",
        "# Calcula a média\n",
        "media = ac_notas / count\n",
        "# Imprime a média\n",
        "print(round(media, 2))\n"
      ],
      "metadata": {
        "colab": {
          "base_uri": "https://localhost:8080/"
        },
        "id": "zcsGJKjGmHUu",
        "outputId": "7f837cf1-0607-42e9-c406-75a5eb67eb0f"
      },
      "execution_count": 9,
      "outputs": [
        {
          "output_type": "stream",
          "name": "stdout",
          "text": [
            "Quantas notas você deseja informar: 3\n",
            "Digite a nota do aluno: 10\n",
            "Digite a nota do aluno: 6\n",
            "Digite a nota do aluno: 7\n",
            "7.67\n"
          ]
        }
      ]
    },
    {
      "cell_type": "markdown",
      "source": [
        "# Exercício 13 – Contagem de Notas Acima e Abaixo da Média\n",
        "**Objetivo:** Ler uma lista de notas. Contar quantas notas alcançaram (≥ 7.0) e quantas não alcançaram a média.\n",
        "\n",
        "*Exemplo 1:*\n",
        "\n",
        "**Entrada:**\n",
        "6\n",
        "\n",
        "9.0, 7.0, 7.5, 6.5, 8.0, 5.9\n",
        "\n",
        "**Saída:**\n",
        "\n",
        "*Alcançaram a média:* 4\n",
        "\n",
        "*Não alcançaram a média:* 2"
      ],
      "metadata": {
        "id": "nl7bdv_Lm-LB"
      }
    },
    {
      "cell_type": "code",
      "source": [
        "# Algoritmo que determina quantos alunos alcançaram a média\n",
        "\n",
        "# Variaveis\n",
        "count_atingiu = 0\n",
        "count_n_atingiu = 0\n",
        "cont = 0\n",
        "\n",
        "# Lista de notas\n",
        "lista_notas = []\n",
        "\n",
        "# Entrada de quantas notas o usuário deseja informar\n",
        "qtd_notas = int(input(\"Quantas notas você desja informar? \"))\n",
        "\n",
        "# Loop\n",
        "while qtd_notas != cont:\n",
        "  nota = input(\"Digite a nota: \") # Entrada da nota\n",
        "  if nota.isnumeric(): # Verifica se a nota é um número\n",
        "    lista_notas.append(float(nota)) # Adiciona nota na lista\n",
        "    cont += 1 # Soma 1 na variavel contadora\n",
        "  else:\n",
        "    print(\"Valor inválido! Tente novamente!\")\n",
        "\n",
        "# Loop pela lista de notas\n",
        "for nota in lista_notas:\n",
        "  if nota >= 7: # Verifica se a nota é maior que sete\n",
        "    count_atingiu += 1 # Soma 1 na quantidade de notas que atingiram a média\n",
        "  else:\n",
        "    count_n_atingiu += 1 # Soma 1 na quantidade de notas que não atingiram a média\n",
        "\n",
        "# Imprime as quantidades de notas que atingiram e não atingiram a média\n",
        "print(f'Alcançaram a Média: {count_atingiu}')\n",
        "print(f'Não Alcaçaram a Média: {count_n_atingiu}')\n",
        "\n"
      ],
      "metadata": {
        "colab": {
          "base_uri": "https://localhost:8080/"
        },
        "id": "ly5jb_B7m-zR",
        "outputId": "36b189d5-4460-4263-b0c9-b69c2a738b9f"
      },
      "execution_count": 11,
      "outputs": [
        {
          "output_type": "stream",
          "name": "stdout",
          "text": [
            "Quantas notas você desja informar? 3\n",
            "Digite a nota: 10\n",
            "Digite a nota: 6\n",
            "Digite a nota: 7\n",
            "Alcaçaram a Média: 2\n",
            "Não Alcaçaram a Média: 1\n"
          ]
        }
      ]
    },
    {
      "cell_type": "markdown",
      "source": [
        "# Exercício 14 – Classificação de Idades\n",
        "**Objetivo:** Ler uma lista de idades. Contar quantas idades são de:\n",
        "\n",
        "**Crianças** (até 11 anos)\n",
        "\n",
        "**Adolescentes** (12 a 17 anos)\n",
        "\n",
        "**Adultos** (18 anos ou mais)\n",
        "\n",
        "Exemplo:\n",
        "\n",
        "*Entrada:*\n",
        "10\n",
        "\n",
        "45, 17, 34, 21, 15, 4, 11, 29, 12, 21\n",
        "\n",
        "*Saída:*\n",
        "\n",
        "Crianças: 2\n",
        "\n",
        "Adolescentes: 3\n",
        "\n",
        "Adultos: 5"
      ],
      "metadata": {
        "id": "Ln-D90jSo4hG"
      }
    },
    {
      "cell_type": "code",
      "source": [
        "# Algoritmo que lê uma lista de idades e classifica\n",
        "\n",
        "# Variaveis\n",
        "cont_kids = 0\n",
        "cont_adolesc = 0\n",
        "cont_adultos = 0\n",
        "cont = 0\n",
        "# Lista de idades\n",
        "lista_idades = []\n",
        "\n",
        "# Entrada do usuario\n",
        "qtd_idade = int(input(\"Digite a quantidade de idades que você deseja informar: \"))\n",
        "\n",
        "# Loop\n",
        "while cont != qtd_idade:\n",
        "  # Entrada da idade\n",
        "  idade = input(\"Digite a idade: \")\n",
        "  if idade.isnumeric(): # Verifica se a entrada é um número\n",
        "    lista_idades.append(int(idade)) # Adiciona na lista\n",
        "    cont += 1 # Soma mais um no contador\n",
        "  else:\n",
        "    print(\"Valor inválido! Tente novamente\")\n",
        "\n",
        "# Loop pela lista de idade e verificação da categoria\n",
        "for idade in lista_idades:\n",
        "  if idade <= 11:\n",
        "    cont_kids += 1\n",
        "  elif idade >= 12 and idade <= 17:\n",
        "    cont_adolesc += 1\n",
        "  else:\n",
        "    cont_adultos += 1\n",
        "\n",
        "# Imprime a quantidade de cada categoria\n",
        "print(f\"Crianças: {cont_kids}\")\n",
        "print(f\"Adolescentes: {cont_adolesc}\")\n",
        "print(f\"Adultos: {cont_adultos}\")"
      ],
      "metadata": {
        "colab": {
          "base_uri": "https://localhost:8080/"
        },
        "id": "OKBfkQCwo71u",
        "outputId": "ae5c8745-87ef-49b5-b406-98007ddd074f"
      },
      "execution_count": 17,
      "outputs": [
        {
          "output_type": "stream",
          "name": "stdout",
          "text": [
            "Digite a quantidade de idades que você deseja informar: 4\n",
            "Digite a idade: 12\n",
            "Digite a idade: 14\n",
            "Digite a idade: 20\n",
            "Digite a idade: 4\n",
            "Crianças: 1\n",
            "Adolescentes: 2\n",
            "Adultos: 1\n"
          ]
        }
      ]
    },
    {
      "cell_type": "markdown",
      "source": [
        "# Exercício 15 – Média de Idades por Grupo\n",
        "**Objetivo:** Utilizando a lista do exercício anterior, calcular a média de idade:\n",
        "\n",
        "*das crianças*\n",
        "\n",
        "*dos adolescentes*\n",
        "\n",
        "*dos adultos*\n",
        "\n",
        "Exibir as contagens e as médias.\n",
        "\n",
        "Exemplo:\n",
        "\n",
        "**Entrada:**\n",
        "\n",
        "10\n",
        "\n",
        "45, 17, 34, 21, 15, 4, 11, 29, 12, 21\n",
        "\n",
        "**Saída:**\n",
        "\n",
        "Crianças: 2, Média: 7.5\n",
        "\n",
        "Adolescentes: 3, Média: 14.67\n",
        "\n",
        "Adultos: 5, Média: 30.0"
      ],
      "metadata": {
        "id": "B-mru-HQqX6u"
      }
    },
    {
      "cell_type": "code",
      "source": [
        "# Algoritmo que calcula a quantidade de pessoas e a idade média por classificação\n",
        "\n",
        "# Variáveis\n",
        "cont_kids = 0\n",
        "cont_adolesc = 0\n",
        "cont_adultos = 0\n",
        "ac_kids = 0\n",
        "ac_adolesc = 0\n",
        "ac_adultos = 0\n",
        "cont = 0\n",
        "# Lista de idades\n",
        "lista_idades = []\n",
        "\n",
        "# Entrada do usuario\n",
        "qtd_idade = int(input(\"Digite a quantidade de idades que você deseja informar: \"))\n",
        "\n",
        "# Loop\n",
        "while cont != qtd_idade:\n",
        "  # Entrada da idade\n",
        "  idade = input(\"Digite a idade: \")\n",
        "  if idade.isnumeric(): # Verifica se a entrada é um número\n",
        "    lista_idades.append(int(idade)) # Adiciona na lista\n",
        "    cont += 1 # Soma mais um no contador\n",
        "  else:\n",
        "    print(\"Valor inválido! Tente novamente\")\n",
        "\n",
        "# Itera sobre a lista de idades e verificando a classificação\n",
        "for idade in lista_idades:\n",
        "  if idade <= 11:\n",
        "    cont_kids += 1\n",
        "    ac_kids += idade\n",
        "  elif idade >= 12 and idade <= 17:\n",
        "    cont_adolesc += 1\n",
        "    ac_adolesc += idade\n",
        "  else:\n",
        "    cont_adultos += 1\n",
        "    ac_adultos += idade\n",
        "\n",
        "# Calculos da média de idades por categoria e verificação se há alguma divisão por zero\n",
        "if ac_kids == 0 or cont_kids == 0:\n",
        "  media_kids = 0\n",
        "else:\n",
        "  media_kids = ac_kids / cont_kids\n",
        "if ac_adolesc == 0 or cont_adolesc == 0:\n",
        "  media_adolesc = 0\n",
        "else:\n",
        "  media_adolesc = ac_adolesc / cont_adolesc\n",
        "if ac_adultos == 0 or cont_adultos == 0:\n",
        "  media_adultos = 0\n",
        "else:\n",
        "  media_adultos = ac_adultos / cont_adultos\n",
        "\n",
        "# Imprime as quantidades de idades e médias por categoria\n",
        "print(f\"Crianças: {cont_kids}, Média: {media_kids}\")\n",
        "print(f\"Adolescentes: {cont_adolesc}, Média: {media_adolesc}\")\n",
        "print(f\"Adultos: {cont_adultos}, Média: {media_adultos}\")\n"
      ],
      "metadata": {
        "colab": {
          "base_uri": "https://localhost:8080/"
        },
        "id": "ZtVTNh_fqY8V",
        "outputId": "811b1899-34ce-43e1-fd86-b79b7133a8d9"
      },
      "execution_count": 21,
      "outputs": [
        {
          "output_type": "stream",
          "name": "stdout",
          "text": [
            "Digite a quantidade de idades que você deseja informar: 4\n",
            "Digite a idade: 12\n",
            "Digite a idade: 12\n",
            "Digite a idade: 20\n",
            "Digite a idade: 21\n",
            "Crianças: 0, Média: 0\n",
            "Adolescentes: 2, Média: 12.0\n",
            "Adultos: 2, Média: 20.5\n"
          ]
        }
      ]
    },
    {
      "cell_type": "markdown",
      "source": [
        "# Exercício 16 – Contar Números Primos\n",
        "**Objetivo:**\n",
        "Ler uma lista de números inteiros. Contar quantos dos números são primos.\n",
        "\n",
        "*Exemplo:*\n",
        "\n",
        "**Entrada:**\n",
        "\n",
        "10\n",
        "45, 17, 34, 21, 15, 4, 11, 29, 12, 21\n",
        "\n",
        "**Saída:**\n",
        "3"
      ],
      "metadata": {
        "id": "KaKJlfjbrtV-"
      }
    },
    {
      "cell_type": "code",
      "source": [
        "# Algoritmo que conta quantos números primos há na lista\n",
        "\n",
        "# Variavel\n",
        "cont = 0\n",
        "# Lista de númmeros\n",
        "lista = []\n",
        "\n",
        "# Entrada do usuario\n",
        "qtd = int(input(\"Digite a quantidade de números que você deseja informar: \"))\n",
        "\n",
        "# Loop\n",
        "while cont != qtd:\n",
        "  # Entrada do número\n",
        "  num = input(\"Digite o número: \")\n",
        "  if num.isnumeric(): # Verifica se a entrada é um número\n",
        "    lista.append(int(num)) # Adiciona na lista\n",
        "    cont += 1 # Soma mais um no contador\n",
        "  else:\n",
        "    print(\"Valor inválido! Tente novamente\")\n",
        "\n",
        "for num in lista:\n",
        "  # Números menores que 2 não são primos\n",
        "  if num < 2:\n",
        "    continue  # pula para o próximo número\n",
        "\n",
        "  # Assume que o número é primo\n",
        "  primo = True\n",
        "\n",
        "  # Verifica se o número tem algum divisor entre 2 e num - 1\n",
        "  for i in range(2, num):\n",
        "      if num % i == 0:\n",
        "        # Se encontrar um divisor, o número não é primo\n",
        "        primo = False\n",
        "        break  # Para o loop pois não é primo\n",
        "  # Imprime os números primos\n",
        "  print(num)\n",
        "\n",
        "\n",
        ""
      ],
      "metadata": {
        "id": "NDXzbMTQruKG",
        "colab": {
          "base_uri": "https://localhost:8080/"
        },
        "outputId": "0a2e2ebd-99ba-4c03-93b1-e7e8230e510a"
      },
      "execution_count": 24,
      "outputs": [
        {
          "output_type": "stream",
          "name": "stdout",
          "text": [
            "Digite a quantidade de números que você deseja informar: 3\n",
            "Digite o número2: 1\n",
            "Digite o número2: 2\n",
            "Digite o número2: 3\n",
            "2\n",
            "3\n"
          ]
        }
      ]
    }
  ]
}