{
  "nbformat": 4,
  "nbformat_minor": 0,
  "metadata": {
    "colab": {
      "provenance": [],
      "authorship_tag": "ABX9TyNykOvtQd+jnz/XXws51D6I",
      "include_colab_link": true
    },
    "kernelspec": {
      "name": "python3",
      "display_name": "Python 3"
    },
    "language_info": {
      "name": "python"
    }
  },
  "cells": [
    {
      "cell_type": "markdown",
      "metadata": {
        "id": "view-in-github",
        "colab_type": "text"
      },
      "source": [
        "<a href=\"https://colab.research.google.com/github/kauegraff/PensamentoComputacional/blob/main/3_ListaComandosDeRepeticaoDeterminados.ipynb\" target=\"_parent\"><img src=\"https://colab.research.google.com/assets/colab-badge.svg\" alt=\"Open In Colab\"/></a>"
      ]
    },
    {
      "cell_type": "markdown",
      "source": [
        "# Lista de Exercícios de Comandos de Repetição em Python"
      ],
      "metadata": {
        "id": "w0PrUDuEi6TX"
      }
    },
    {
      "cell_type": "markdown",
      "source": [
        "###1 - Transcreva o algoritmo a seguir:\n",
        "\n",
        "```python\n",
        "ALGORITMO TABUADA_9;\n",
        "VAR\n",
        "  N, X, R : INTEIRO;\n",
        "INICIO\n",
        "  PARA X DE 1 ATE 10 FACA\n",
        "    INICIO\n",
        "      R ← 9 * X;\n",
        "      ESCREVER ( X, ‘ x 9 = ’, R);\n",
        "    FIM;\n",
        "  FIM_PARA;\n",
        "FIM.\n",
        "```"
      ],
      "metadata": {
        "id": "uozcFoTyjG-e"
      }
    },
    {
      "cell_type": "code",
      "execution_count": null,
      "metadata": {
        "colab": {
          "base_uri": "https://localhost:8080/"
        },
        "id": "fRpGWnPoh6Ey",
        "outputId": "6c4abc18-a132-42cc-ae35-ff7cddc88904"
      },
      "outputs": [
        {
          "output_type": "stream",
          "name": "stdout",
          "text": [
            "1 x 9 = 9\n",
            "2 x 9 = 18\n",
            "3 x 9 = 27\n",
            "4 x 9 = 36\n",
            "5 x 9 = 45\n",
            "6 x 9 = 54\n",
            "7 x 9 = 63\n",
            "8 x 9 = 72\n",
            "9 x 9 = 81\n",
            "10 x 9 = 90\n"
          ]
        }
      ],
      "source": [
        "# Algoritmo que calcula a tabuada do 9\n",
        "\n",
        "# Variáveis\n",
        "r = 0\n",
        "\n",
        "# Percorre a lista de 1 a 10, atribuindo o número da repetição a x\n",
        "for x in range(1, 11):\n",
        "  # Calcula e imprime o resultado\n",
        "  r += 9\n",
        "  print(x, \"x 9 =\", r)"
      ]
    },
    {
      "cell_type": "markdown",
      "source": [
        "###2 - Faça um programa em Python que mostre todos os números inteiros ímpares situados na faixa de 1000 a 1500."
      ],
      "metadata": {
        "id": "ZvqBqEkMkVxW"
      }
    },
    {
      "cell_type": "code",
      "source": [
        "# Algoritmo que mostra todos os números ímpares de 1000 a 1500\n",
        "\n",
        "# Percorre a lista de 1000 a 1500\n",
        "for x in range(1000, 1501):\n",
        "  # Verifica se o número é ímpar\n",
        "  if x % 2 != 0:\n",
        "    # Se o número for ímpar ele imprime o resultado\n",
        "    print(x)\n"
      ],
      "metadata": {
        "colab": {
          "base_uri": "https://localhost:8080/"
        },
        "collapsed": true,
        "id": "LhEdvMDCkcZV",
        "outputId": "16c59169-192b-4e0e-dc84-79e17180f6d9"
      },
      "execution_count": null,
      "outputs": [
        {
          "output_type": "stream",
          "name": "stdout",
          "text": [
            "1001\n",
            "1003\n",
            "1005\n",
            "1007\n",
            "1009\n",
            "1011\n",
            "1013\n",
            "1015\n",
            "1017\n",
            "1019\n",
            "1021\n",
            "1023\n",
            "1025\n",
            "1027\n",
            "1029\n",
            "1031\n",
            "1033\n",
            "1035\n",
            "1037\n",
            "1039\n",
            "1041\n",
            "1043\n",
            "1045\n",
            "1047\n",
            "1049\n",
            "1051\n",
            "1053\n",
            "1055\n",
            "1057\n",
            "1059\n",
            "1061\n",
            "1063\n",
            "1065\n",
            "1067\n",
            "1069\n",
            "1071\n",
            "1073\n",
            "1075\n",
            "1077\n",
            "1079\n",
            "1081\n",
            "1083\n",
            "1085\n",
            "1087\n",
            "1089\n",
            "1091\n",
            "1093\n",
            "1095\n",
            "1097\n",
            "1099\n",
            "1101\n",
            "1103\n",
            "1105\n",
            "1107\n",
            "1109\n",
            "1111\n",
            "1113\n",
            "1115\n",
            "1117\n",
            "1119\n",
            "1121\n",
            "1123\n",
            "1125\n",
            "1127\n",
            "1129\n",
            "1131\n",
            "1133\n",
            "1135\n",
            "1137\n",
            "1139\n",
            "1141\n",
            "1143\n",
            "1145\n",
            "1147\n",
            "1149\n",
            "1151\n",
            "1153\n",
            "1155\n",
            "1157\n",
            "1159\n",
            "1161\n",
            "1163\n",
            "1165\n",
            "1167\n",
            "1169\n",
            "1171\n",
            "1173\n",
            "1175\n",
            "1177\n",
            "1179\n",
            "1181\n",
            "1183\n",
            "1185\n",
            "1187\n",
            "1189\n",
            "1191\n",
            "1193\n",
            "1195\n",
            "1197\n",
            "1199\n",
            "1201\n",
            "1203\n",
            "1205\n",
            "1207\n",
            "1209\n",
            "1211\n",
            "1213\n",
            "1215\n",
            "1217\n",
            "1219\n",
            "1221\n",
            "1223\n",
            "1225\n",
            "1227\n",
            "1229\n",
            "1231\n",
            "1233\n",
            "1235\n",
            "1237\n",
            "1239\n",
            "1241\n",
            "1243\n",
            "1245\n",
            "1247\n",
            "1249\n",
            "1251\n",
            "1253\n",
            "1255\n",
            "1257\n",
            "1259\n",
            "1261\n",
            "1263\n",
            "1265\n",
            "1267\n",
            "1269\n",
            "1271\n",
            "1273\n",
            "1275\n",
            "1277\n",
            "1279\n",
            "1281\n",
            "1283\n",
            "1285\n",
            "1287\n",
            "1289\n",
            "1291\n",
            "1293\n",
            "1295\n",
            "1297\n",
            "1299\n",
            "1301\n",
            "1303\n",
            "1305\n",
            "1307\n",
            "1309\n",
            "1311\n",
            "1313\n",
            "1315\n",
            "1317\n",
            "1319\n",
            "1321\n",
            "1323\n",
            "1325\n",
            "1327\n",
            "1329\n",
            "1331\n",
            "1333\n",
            "1335\n",
            "1337\n",
            "1339\n",
            "1341\n",
            "1343\n",
            "1345\n",
            "1347\n",
            "1349\n",
            "1351\n",
            "1353\n",
            "1355\n",
            "1357\n",
            "1359\n",
            "1361\n",
            "1363\n",
            "1365\n",
            "1367\n",
            "1369\n",
            "1371\n",
            "1373\n",
            "1375\n",
            "1377\n",
            "1379\n",
            "1381\n",
            "1383\n",
            "1385\n",
            "1387\n",
            "1389\n",
            "1391\n",
            "1393\n",
            "1395\n",
            "1397\n",
            "1399\n",
            "1401\n",
            "1403\n",
            "1405\n",
            "1407\n",
            "1409\n",
            "1411\n",
            "1413\n",
            "1415\n",
            "1417\n",
            "1419\n",
            "1421\n",
            "1423\n",
            "1425\n",
            "1427\n",
            "1429\n",
            "1431\n",
            "1433\n",
            "1435\n",
            "1437\n",
            "1439\n",
            "1441\n",
            "1443\n",
            "1445\n",
            "1447\n",
            "1449\n",
            "1451\n",
            "1453\n",
            "1455\n",
            "1457\n",
            "1459\n",
            "1461\n",
            "1463\n",
            "1465\n",
            "1467\n",
            "1469\n",
            "1471\n",
            "1473\n",
            "1475\n",
            "1477\n",
            "1479\n",
            "1481\n",
            "1483\n",
            "1485\n",
            "1487\n",
            "1489\n",
            "1491\n",
            "1493\n",
            "1495\n",
            "1497\n",
            "1499\n"
          ]
        }
      ]
    },
    {
      "cell_type": "markdown",
      "source": [
        "### 3 - Elabore um programa em Python que calcule e escreva a soma de 10 números lidos."
      ],
      "metadata": {
        "id": "UvjQIUiMmKGc"
      }
    },
    {
      "cell_type": "code",
      "source": [
        "# Algoritmo que calcula a soma de dez números lidos\n",
        "\n",
        "# Variaveis\n",
        "soma = 0\n",
        "\n",
        "# Loop para percorrer uma lista de 1 até o 10\n",
        "for x in range(1, 11):\n",
        "  num = int(input(f\"Digite o {x}° número: \")) # Entrada do usuário\n",
        "  soma += num # Acumulador\n",
        "\n",
        "# Imprime a soma dos números\n",
        "print(f\"\\nSoma dos números digitados: {soma}\")"
      ],
      "metadata": {
        "colab": {
          "base_uri": "https://localhost:8080/"
        },
        "id": "tLeDn0b7mUqD",
        "outputId": "875469d1-4c18-469b-b867-d680f26bd7a2"
      },
      "execution_count": null,
      "outputs": [
        {
          "output_type": "stream",
          "name": "stdout",
          "text": [
            "Digite o 1° número: 2\n",
            "Digite o 2° número: 3\n",
            "Digite o 3° número: 4\n",
            "Digite o 4° número: 5\n",
            "Digite o 5° número: 6\n",
            "Digite o 6° número: 7\n",
            "Digite o 7° número: 8\n",
            "Digite o 8° número: 9\n",
            "Digite o 9° número: 1\n",
            "Digite o 10° número: 1\n",
            "\n",
            "Soma dos números digitados: 46\n"
          ]
        }
      ]
    },
    {
      "cell_type": "markdown",
      "source": [
        "###4 - Faça um programa em Python que leia a nota de 10 alunos de uma turma. Ao final, deve ser escrita a média geral da turma."
      ],
      "metadata": {
        "id": "fybVs4r2oBVx"
      }
    },
    {
      "cell_type": "code",
      "source": [
        "\n",
        "# Algoritmo que calcula a média de 10 alunos\n",
        "\n",
        "\n",
        "# Variaveis\n",
        "nota = 0\n",
        "soma_notas = 0\n",
        "\n",
        "# Percorre uma lista com 10 alunos\n",
        "for x in range(1, 11):\n",
        "  # Entrada da nota\n",
        "  nota = float(input(f\"Digite a nota do {x}° aluno: \"))\n",
        "  # Acumulador da nota\n",
        "  soma_notas += nota\n",
        "\n",
        "# Média das notas\n",
        "med = soma_notas / x\n",
        "# Imprime a média dos 10 alunos\n",
        "print(f\"\\nMédia {med}\")\n"
      ],
      "metadata": {
        "colab": {
          "base_uri": "https://localhost:8080/"
        },
        "id": "1YqulMF1oHk5",
        "outputId": "fd8d8748-f10e-4919-e248-563c1bc3d696"
      },
      "execution_count": null,
      "outputs": [
        {
          "output_type": "stream",
          "name": "stdout",
          "text": [
            "Digite a nota do 1° aluno: 9\n",
            "Digite a nota do 2° aluno: 9\n",
            "Digite a nota do 3° aluno: 9\n",
            "Digite a nota do 4° aluno: 9\n",
            "Digite a nota do 5° aluno: 9\n",
            "Digite a nota do 6° aluno: 7\n",
            "Digite a nota do 7° aluno: 3\n",
            "Digite a nota do 8° aluno: 2\n",
            "Digite a nota do 9° aluno: 1\n",
            "Digite a nota do 10° aluno: 1\n",
            "\n",
            "Média 5.9\n"
          ]
        }
      ]
    },
    {
      "cell_type": "markdown",
      "source": [
        "###5 - Faça um programa em Python que leia 5 números. Para cada número fornecido, escreva se ele é NULO, NEGATIVO ou POSITIVO."
      ],
      "metadata": {
        "id": "t6ac8yZ2p6CA"
      }
    },
    {
      "cell_type": "code",
      "source": [
        "# Algoritmo que lê 5 números e diz se cada número é positivo, negativo ou nulo\n",
        "\n",
        "# Loop que lê 5 números\n",
        "for x in range(1, 6):\n",
        "  # Entrada do usuário\n",
        "  num = float(input(\"\\nDigite um número qualquer: \"))\n",
        "  # Verificações se o número digitado é maior, menor ou igual a zero\n",
        "  if num == 0:\n",
        "    print(f\"O número {num} é nulo\")\n",
        "  elif num > 0:\n",
        "    print(f\"O número {num} é positivo\")\n",
        "  else:\n",
        "    print(f\"O número {num} é negativo\")"
      ],
      "metadata": {
        "colab": {
          "base_uri": "https://localhost:8080/"
        },
        "id": "t5UMALIyp9MI",
        "outputId": "ca5a84c4-9f20-460e-b00a-9437284569e5"
      },
      "execution_count": null,
      "outputs": [
        {
          "output_type": "stream",
          "name": "stdout",
          "text": [
            "\n",
            "Digite um número qualquer: 3\n",
            "O número 3.0 é positivo\n",
            "\n",
            "Digite um número qualquer: 4\n",
            "O número 4.0 é positivo\n",
            "\n",
            "Digite um número qualquer: 3\n",
            "O número 3.0 é positivo\n",
            "\n",
            "Digite um número qualquer: 4\n",
            "O número 4.0 é positivo\n",
            "\n",
            "Digite um número qualquer: 4\n",
            "O número 4.0 é positivo\n"
          ]
        }
      ]
    },
    {
      "cell_type": "markdown",
      "source": [
        "###6 - Ler dois valores inteiros e escrever os números em sequência do menor até maior valor."
      ],
      "metadata": {
        "id": "CAtWpTOOrYWW"
      }
    },
    {
      "cell_type": "code",
      "source": [
        "# Algoritmo que ordena elementos do menor até o maior\n",
        "\n",
        "# Entradas dos números 1 e 2\n",
        "num1 = int(input(\"Digite um número inteiro: \"))\n",
        "num2 = int(input(\"Digite outro número inteiro: \"))\n",
        "\n",
        "if num1 > num2:\n",
        "  # imprime os números do número digitado por segundo até o primeiro número digitado\n",
        "  for x in range(num2, num1+1):\n",
        "    print(x)\n",
        "elif num1 < num2:\n",
        "  # imprime os números do número digitado por primeiro até o segundo número digitado\n",
        "  for x in range(num1, num2+1):\n",
        "    print(x)\n",
        "else:\n",
        "  print(\"Os números são iguais\")"
      ],
      "metadata": {
        "colab": {
          "base_uri": "https://localhost:8080/"
        },
        "id": "rerdvoN5rfdm",
        "outputId": "a96ebeee-c551-47c6-f1e1-101286b2b97c"
      },
      "execution_count": null,
      "outputs": [
        {
          "output_type": "stream",
          "name": "stdout",
          "text": [
            "Digite um número inteiro: 7\n",
            "Digite outro número inteiro: 1\n",
            "1\n",
            "2\n",
            "3\n",
            "4\n",
            "5\n",
            "6\n",
            "7\n"
          ]
        }
      ]
    },
    {
      "cell_type": "markdown",
      "source": [
        "###7 - Faça um programa em Python que escreva os números pares entre 100 e 200."
      ],
      "metadata": {
        "id": "odxUICU7s08t"
      }
    },
    {
      "cell_type": "code",
      "source": [
        "# Algoritmo que mostra os números pares de 100 a 200\n",
        "\n",
        "# Percorre a lista de 100 a 200\n",
        "for x in range(100, 201):\n",
        "  # Verifica se o número é par\n",
        "  if x % 2 == 0:\n",
        "    # printa os números pares\n",
        "    print(x)"
      ],
      "metadata": {
        "colab": {
          "base_uri": "https://localhost:8080/"
        },
        "collapsed": true,
        "id": "bp4mtnRis4R1",
        "outputId": "8f56da5c-7f21-4e96-8e08-570c903f8e93"
      },
      "execution_count": null,
      "outputs": [
        {
          "output_type": "stream",
          "name": "stdout",
          "text": [
            "100\n",
            "102\n",
            "104\n",
            "106\n",
            "108\n",
            "110\n",
            "112\n",
            "114\n",
            "116\n",
            "118\n",
            "120\n",
            "122\n",
            "124\n",
            "126\n",
            "128\n",
            "130\n",
            "132\n",
            "134\n",
            "136\n",
            "138\n",
            "140\n",
            "142\n",
            "144\n",
            "146\n",
            "148\n",
            "150\n",
            "152\n",
            "154\n",
            "156\n",
            "158\n",
            "160\n",
            "162\n",
            "164\n",
            "166\n",
            "168\n",
            "170\n",
            "172\n",
            "174\n",
            "176\n",
            "178\n",
            "180\n",
            "182\n",
            "184\n",
            "186\n",
            "188\n",
            "190\n",
            "192\n",
            "194\n",
            "196\n",
            "198\n",
            "200\n"
          ]
        }
      ]
    },
    {
      "cell_type": "markdown",
      "source": [
        "###8 - Escrever um programa em Python que leia um valor para n, inteiro e positivo, e escreva a tabuada de n. Com os respectivos valores.\n",
        "\n",
        "n x 1 =\n",
        "\n",
        "n x 2 =\n",
        "\n",
        "...\n",
        "\n",
        "n x 10 ="
      ],
      "metadata": {
        "id": "HzG3k6k4teng"
      }
    },
    {
      "cell_type": "code",
      "source": [
        "# Algoritmo que imprime a tabuada de determinado valor\n",
        "\n",
        "# Número digitado pelo usuário\n",
        "n = int(input(\"Digite um número inteiro e positivo: \"))\n",
        "\n",
        "# Percorre uma lista de 1 a 10\n",
        "for x in range(1, 11):\n",
        "  # Imprime a tabuada do número digitado\n",
        "  print(n,\"x\", x, \"=\")\n"
      ],
      "metadata": {
        "colab": {
          "base_uri": "https://localhost:8080/"
        },
        "id": "GXxt26fmtq8Q",
        "outputId": "d5007922-cc5c-4e91-c5ea-f8f3188b86cf"
      },
      "execution_count": null,
      "outputs": [
        {
          "output_type": "stream",
          "name": "stdout",
          "text": [
            "Digite um número inteiro e positivo: 5\n",
            "5 x 1 =\n",
            "5 x 2 =\n",
            "5 x 3 =\n",
            "5 x 4 =\n",
            "5 x 5 =\n",
            "5 x 6 =\n",
            "5 x 7 =\n",
            "5 x 8 =\n",
            "5 x 9 =\n",
            "5 x 10 =\n"
          ]
        }
      ]
    },
    {
      "cell_type": "markdown",
      "source": [
        "###9 - Escrever um programa em Python que gera os números de 1000 a 1999 e escreve aqueles que divididos por 11 dão um resto igual a 5."
      ],
      "metadata": {
        "id": "4qITCZBNucmh"
      }
    },
    {
      "cell_type": "code",
      "source": [
        "# Algoritmo que captura os números que estão entre 1000 a 1999 e que divididos por 11 dão resto igual a 5\n",
        "\n",
        "# Percorre uma lista de 1000 até 1999\n",
        "for x in range(1000, 2000):\n",
        "  # Verifica quais são os números que divididos por 11 dão resto igual a 5\n",
        "  if x % 11 == 5:\n",
        "    # Imprime os números que respitam a regra acima\n",
        "    print(x)"
      ],
      "metadata": {
        "colab": {
          "base_uri": "https://localhost:8080/"
        },
        "collapsed": true,
        "id": "8VU6oD1UuhJ4",
        "outputId": "7c927fb8-fa0b-4082-9fbb-a632adc3fb0b"
      },
      "execution_count": null,
      "outputs": [
        {
          "output_type": "stream",
          "name": "stdout",
          "text": [
            "1006\n",
            "1017\n",
            "1028\n",
            "1039\n",
            "1050\n",
            "1061\n",
            "1072\n",
            "1083\n",
            "1094\n",
            "1105\n",
            "1116\n",
            "1127\n",
            "1138\n",
            "1149\n",
            "1160\n",
            "1171\n",
            "1182\n",
            "1193\n",
            "1204\n",
            "1215\n",
            "1226\n",
            "1237\n",
            "1248\n",
            "1259\n",
            "1270\n",
            "1281\n",
            "1292\n",
            "1303\n",
            "1314\n",
            "1325\n",
            "1336\n",
            "1347\n",
            "1358\n",
            "1369\n",
            "1380\n",
            "1391\n",
            "1402\n",
            "1413\n",
            "1424\n",
            "1435\n",
            "1446\n",
            "1457\n",
            "1468\n",
            "1479\n",
            "1490\n",
            "1501\n",
            "1512\n",
            "1523\n",
            "1534\n",
            "1545\n",
            "1556\n",
            "1567\n",
            "1578\n",
            "1589\n",
            "1600\n",
            "1611\n",
            "1622\n",
            "1633\n",
            "1644\n",
            "1655\n",
            "1666\n",
            "1677\n",
            "1688\n",
            "1699\n",
            "1710\n",
            "1721\n",
            "1732\n",
            "1743\n",
            "1754\n",
            "1765\n",
            "1776\n",
            "1787\n",
            "1798\n",
            "1809\n",
            "1820\n",
            "1831\n",
            "1842\n",
            "1853\n",
            "1864\n",
            "1875\n",
            "1886\n",
            "1897\n",
            "1908\n",
            "1919\n",
            "1930\n",
            "1941\n",
            "1952\n",
            "1963\n",
            "1974\n",
            "1985\n",
            "1996\n"
          ]
        }
      ]
    },
    {
      "cell_type": "markdown",
      "source": [
        "###10 - Faça um programa em Python que leia um número qualquer (N), e realize a soma dos números de 1 até N. Ao final, deve-se escrever o resultado."
      ],
      "metadata": {
        "id": "0Var8IIcz8po"
      }
    },
    {
      "cell_type": "code",
      "source": [
        "\n",
        "# Algoritmo que calcula a soma dos números de 1 até o número digitado pelo usuário\n",
        "\n",
        "# Variáveis\n",
        "soma = 0\n",
        "\n",
        "# Entrada do usuário\n",
        "n = int(input(\"Digite um número qualquer: \"))\n",
        "\n",
        "# Percorre a lista de 1 até o número digitado pelo usuário\n",
        "for x in range(1, n+1):\n",
        "  # Acumulador\n",
        "  soma += x\n",
        "\n",
        "print(f\"A somas dos números de 1 até {n} é igual a {soma}\")\n"
      ],
      "metadata": {
        "colab": {
          "base_uri": "https://localhost:8080/"
        },
        "id": "jItGCaNe0CSo",
        "outputId": "11586eef-3e7b-46bb-f974-bd94c8bc6e40"
      },
      "execution_count": null,
      "outputs": [
        {
          "output_type": "stream",
          "name": "stdout",
          "text": [
            "Digite um número qualquer: 6\n",
            "A somas dos números de 1 até 6 é igual a 21\n"
          ]
        }
      ]
    },
    {
      "cell_type": "markdown",
      "source": [
        "###11 - Faça um programa em Python para ler 10 valores inteiros. Para cada valor fornecido escreva uma mensagem que indica se cada valor fornecido é PAR ou ÍMPAR."
      ],
      "metadata": {
        "id": "z9uwrXkj1oeu"
      }
    },
    {
      "cell_type": "code",
      "source": [
        "\n",
        "# Algoritmo que verifica se, entre 10 valores digitados pelo usuário,\n",
        "o valor é par ou ímpar\n",
        "\n",
        "# Percorre uma lista com 10 valores\n",
        "for x in range(1, 11):\n",
        "  # Entrada do usuário\n",
        "  num = int(input(f\"\\nDigite o {x}° número interio: \"))\n",
        "  # Verifica se o número é par\n",
        "  if num % 2 == 0:\n",
        "    print(f\"O {num} é par\")\n",
        "  # Verifica se o número é ímpar\n",
        "  else:\n",
        "    print(f\"O {num} é ímpar\")"
      ],
      "metadata": {
        "colab": {
          "base_uri": "https://localhost:8080/"
        },
        "id": "0i9c6oGC1sos",
        "outputId": "0b1b3f8a-162a-4d01-cef7-b3a4cd422670"
      },
      "execution_count": null,
      "outputs": [
        {
          "output_type": "stream",
          "name": "stdout",
          "text": [
            "Digite o 1° número interio: 1\n",
            "O 1 é ímpar\n",
            "Digite o 2° número interio: 2\n",
            "O 2 é par\n",
            "Digite o 3° número interio: 3\n",
            "O 3 é ímpar\n",
            "Digite o 4° número interio: 4\n",
            "O 4 é par\n",
            "Digite o 5° número interio: 5\n",
            "O 5 é ímpar\n",
            "Digite o 6° número interio: 6\n",
            "O 6 é par\n",
            "Digite o 7° número interio: 7\n",
            "O 7 é ímpar\n",
            "Digite o 8° número interio: 8\n",
            "O 8 é par\n",
            "Digite o 9° número interio: 9\n",
            "O 9 é ímpar\n",
            "Digite o 10° número interio: 14\n",
            "O 14 é par\n"
          ]
        }
      ]
    },
    {
      "cell_type": "markdown",
      "source": [
        "###12 - Faça um programa em Python que leia a idade de 10 alunos, calcule e escreva a média de idade destes."
      ],
      "metadata": {
        "id": "cehberfr2vQu"
      }
    },
    {
      "cell_type": "code",
      "source": [
        "# Algoritmo que calcula a idade média entre 10 alunos\n",
        "\n",
        "soma_id = 0\n",
        "# Percorre os valores de 1 até 10\n",
        "for x in range(1, 11):\n",
        "  # Entrada da idade\n",
        "  idade = int(input(f\"Digite a idade do {x} aluno: \"))\n",
        "  # Acumula a idade\n",
        "  soma_id += idade\n",
        "\n",
        "# Faz média e imprime\n",
        "med = soma_id / x\n",
        "print(f\"Idade média: {med}\")"
      ],
      "metadata": {
        "colab": {
          "base_uri": "https://localhost:8080/"
        },
        "id": "PyqkvC5Y2x1G",
        "outputId": "1c290700-f27f-4d31-ad86-97cbc7d15764"
      },
      "execution_count": null,
      "outputs": [
        {
          "output_type": "stream",
          "name": "stdout",
          "text": [
            "Digite a idade do 1 aluno: 14\n",
            "Digite a idade do 2 aluno: 14\n",
            "Digite a idade do 3 aluno: 15\n",
            "Digite a idade do 4 aluno: 18\n",
            "Digite a idade do 5 aluno: 19\n",
            "Digite a idade do 6 aluno: 18\n",
            "Digite a idade do 7 aluno: 18\n",
            "Digite a idade do 8 aluno: 17\n",
            "Digite a idade do 9 aluno: 16\n",
            "Digite a idade do 10 aluno: 15\n",
            "Idade média: 16.4\n"
          ]
        }
      ]
    },
    {
      "cell_type": "markdown",
      "source": [
        "###13 - Faça um algoritmo em Python que leia dois valores inteiros e escreva se eles estão em ordem crescente, decrescente ou são iguais, após isso escreva todos os valores do menor ao maior."
      ],
      "metadata": {
        "id": "tbx1OuFA3lJo"
      }
    },
    {
      "cell_type": "code",
      "source": [
        "# Algoritmo que lê dois valores inteiros e verifica se eles estão em ordem crescente e ordena eles do menor até o maior\n",
        "\n",
        "# Entrada dos usuários\n",
        "num1 = int(input(\"Digite um número inteiro: \"))\n",
        "num2 = int(input(\"Digite outro número inteiro: \"))\n",
        "\n",
        "# Verifica se num1 é maior que num2\n",
        "if num1 > num2:\n",
        "  print(\"\\nOs números estão em ordem descrescente\")\n",
        "  print(\"\\Em ordem Crescente:\")\n",
        "  # Percorre os números do menor até o maior\n",
        "  for x in range(num2, num1+1):\n",
        "    print(x)\n",
        "# Verifica se num1 é menor que num2\n",
        "elif num1 < num2:\n",
        "  print(\"\\nOs números estão em ordem Crescente\")\n",
        "  print(\"\\nEm ordem Crescente:\")\n",
        "  # Percorre os números do menor até o maior\n",
        "  for x in range(num1, num2+1):\n",
        "    print(x)\n",
        "else:\n",
        "  print(\"\\nOs números são iguais\")"
      ],
      "metadata": {
        "colab": {
          "base_uri": "https://localhost:8080/"
        },
        "id": "vq_U2E8q3qtG",
        "outputId": "b5d0059d-f44b-4542-a7df-7a0275124366"
      },
      "execution_count": null,
      "outputs": [
        {
          "output_type": "stream",
          "name": "stdout",
          "text": [
            "Digite um número inteiro: 1\n",
            "Digite outro número inteiro: 9\n",
            "\n",
            "Os números estão em ordem Crescente\n",
            "\n",
            "Em ordem Crescente:\n",
            "1\n",
            "2\n",
            "3\n",
            "4\n",
            "5\n",
            "6\n",
            "7\n",
            "8\n",
            "9\n"
          ]
        }
      ]
    },
    {
      "cell_type": "markdown",
      "source": [
        "###14 - Escrever um programa em Python que lê 10 valores para n, um de cada vez, todos inteiros e positivos, e para cada n lido, escreva a tabuada de 1 até n de n.\n",
        "\n",
        "1 x n = n\n",
        "\n",
        "2 x n = 2n\n",
        "\n",
        "...\n",
        "\n",
        "n x n = n"
      ],
      "metadata": {
        "id": "4nuX5hYR5MwT"
      }
    },
    {
      "cell_type": "code",
      "source": [
        "# Algoritmo que lê dez números, e para cada, digita a tabuada dele até que ele sejam multiplicado por ele mesmo\n",
        "\n",
        "# Percorre uma lista de 1 até 11\n",
        "for x in range(1, 11):\n",
        "  # Entrada do usuário\n",
        "  num = int(input(\"Digite um número inteiro: \"))\n",
        "  # Percorre uma lista até que número digitado seja igual a ele mesmo, para que num x num\n",
        "  for x in range(1, num+1):\n",
        "    print(x, \"x\", num , \"=\", x*num )"
      ],
      "metadata": {
        "colab": {
          "base_uri": "https://localhost:8080/"
        },
        "collapsed": true,
        "id": "zJTi327Q5W8y",
        "outputId": "c9dca223-311c-4412-fd0d-3e6568fac86e"
      },
      "execution_count": null,
      "outputs": [
        {
          "output_type": "stream",
          "name": "stdout",
          "text": [
            "Digite um número inteiro: 8\n",
            "1 x 8 = 8\n",
            "2 x 8 = 16\n",
            "3 x 8 = 24\n",
            "4 x 8 = 32\n",
            "5 x 8 = 40\n",
            "6 x 8 = 48\n",
            "7 x 8 = 56\n",
            "8 x 8 = 64\n",
            "Digite um número inteiro: 2\n",
            "1 x 2 = 2\n",
            "2 x 2 = 4\n",
            "Digite um número inteiro: 9\n",
            "1 x 9 = 9\n",
            "2 x 9 = 18\n",
            "3 x 9 = 27\n",
            "4 x 9 = 36\n",
            "5 x 9 = 45\n",
            "6 x 9 = 54\n",
            "7 x 9 = 63\n",
            "8 x 9 = 72\n",
            "9 x 9 = 81\n",
            "Digite um número inteiro: 10\n",
            "1 x 10 = 10\n",
            "2 x 10 = 20\n",
            "3 x 10 = 30\n",
            "4 x 10 = 40\n",
            "5 x 10 = 50\n",
            "6 x 10 = 60\n",
            "7 x 10 = 70\n",
            "8 x 10 = 80\n",
            "9 x 10 = 90\n",
            "10 x 10 = 100\n",
            "Digite um número inteiro: 11\n",
            "1 x 11 = 11\n",
            "2 x 11 = 22\n",
            "3 x 11 = 33\n",
            "4 x 11 = 44\n",
            "5 x 11 = 55\n",
            "6 x 11 = 66\n",
            "7 x 11 = 77\n",
            "8 x 11 = 88\n",
            "9 x 11 = 99\n",
            "10 x 11 = 110\n",
            "11 x 11 = 121\n",
            "Digite um número inteiro: 12\n",
            "1 x 12 = 12\n",
            "2 x 12 = 24\n",
            "3 x 12 = 36\n",
            "4 x 12 = 48\n",
            "5 x 12 = 60\n",
            "6 x 12 = 72\n",
            "7 x 12 = 84\n",
            "8 x 12 = 96\n",
            "9 x 12 = 108\n",
            "10 x 12 = 120\n",
            "11 x 12 = 132\n",
            "12 x 12 = 144\n",
            "Digite um número inteiro: 13\n",
            "1 x 13 = 13\n",
            "2 x 13 = 26\n",
            "3 x 13 = 39\n",
            "4 x 13 = 52\n",
            "5 x 13 = 65\n",
            "6 x 13 = 78\n",
            "7 x 13 = 91\n",
            "8 x 13 = 104\n",
            "9 x 13 = 117\n",
            "10 x 13 = 130\n",
            "11 x 13 = 143\n",
            "12 x 13 = 156\n",
            "13 x 13 = 169\n",
            "Digite um número inteiro: 14\n",
            "1 x 14 = 14\n",
            "2 x 14 = 28\n",
            "3 x 14 = 42\n",
            "4 x 14 = 56\n",
            "5 x 14 = 70\n",
            "6 x 14 = 84\n",
            "7 x 14 = 98\n",
            "8 x 14 = 112\n",
            "9 x 14 = 126\n",
            "10 x 14 = 140\n",
            "11 x 14 = 154\n",
            "12 x 14 = 168\n",
            "13 x 14 = 182\n",
            "14 x 14 = 196\n",
            "Digite um número inteiro: 15\n",
            "1 x 15 = 15\n",
            "2 x 15 = 30\n",
            "3 x 15 = 45\n",
            "4 x 15 = 60\n",
            "5 x 15 = 75\n",
            "6 x 15 = 90\n",
            "7 x 15 = 105\n",
            "8 x 15 = 120\n",
            "9 x 15 = 135\n",
            "10 x 15 = 150\n",
            "11 x 15 = 165\n",
            "12 x 15 = 180\n",
            "13 x 15 = 195\n",
            "14 x 15 = 210\n",
            "15 x 15 = 225\n",
            "Digite um número inteiro: 16\n",
            "1 x 16 = 16\n",
            "2 x 16 = 32\n",
            "3 x 16 = 48\n",
            "4 x 16 = 64\n",
            "5 x 16 = 80\n",
            "6 x 16 = 96\n",
            "7 x 16 = 112\n",
            "8 x 16 = 128\n",
            "9 x 16 = 144\n",
            "10 x 16 = 160\n",
            "11 x 16 = 176\n",
            "12 x 16 = 192\n",
            "13 x 16 = 208\n",
            "14 x 16 = 224\n",
            "15 x 16 = 240\n",
            "16 x 16 = 256\n"
          ]
        }
      ]
    }
  ]
}