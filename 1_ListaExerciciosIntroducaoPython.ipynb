{
  "nbformat": 4,
  "nbformat_minor": 0,
  "metadata": {
    "colab": {
      "provenance": [],
      "authorship_tag": "ABX9TyMQzGK6xEL0nVLjxrf2pq1I",
      "include_colab_link": true
    },
    "kernelspec": {
      "name": "python3",
      "display_name": "Python 3"
    },
    "language_info": {
      "name": "python"
    }
  },
  "cells": [
    {
      "cell_type": "markdown",
      "metadata": {
        "id": "view-in-github",
        "colab_type": "text"
      },
      "source": [
        "<a href=\"https://colab.research.google.com/github/kauegraff/PensamentoComputacional/blob/main/1_ListaExerciciosIntroducaoPython.ipynb\" target=\"_parent\"><img src=\"https://colab.research.google.com/assets/colab-badge.svg\" alt=\"Open In Colab\"/></a>"
      ]
    },
    {
      "cell_type": "markdown",
      "source": [
        "# Exercícios de Aula: Comandos de Entrada e Saída em Python"
      ],
      "metadata": {
        "id": "HzRoCh5C7-AW"
      }
    },
    {
      "cell_type": "markdown",
      "source": [
        "1 - Faça em Python um algoritmo que leia um número inteiro qualquer. O algoritmo deve calcular e escrever o quadrado, a raiz quadrada, e a divisão do quadrado pela raiz quadrada do número lido."
      ],
      "metadata": {
        "id": "FOIP_ave8ymx"
      }
    },
    {
      "cell_type": "code",
      "execution_count": null,
      "metadata": {
        "colab": {
          "base_uri": "https://localhost:8080/"
        },
        "id": "mfuFWa1T7w9f",
        "outputId": "117a15a0-1d35-4619-8084-8fd720cb8bef"
      },
      "outputs": [
        {
          "output_type": "stream",
          "name": "stdout",
          "text": [
            "Informe um número inteiro qualquer: 9\n",
            "O quadrado de 9 é 81 , a raiz quadrada é 3.0 e a divisão do quadrado pela raiz quadrada é 27.0\n"
          ]
        }
      ],
      "source": [
        "# Algoritmo de cálculo de quadrado, raiz quadrada e divisão do quadrado pela raiz quadrada\n",
        "\n",
        "# Bibliotecas\n",
        "import math\n",
        "\n",
        "# Inicia a captura do inteiro\n",
        "n = int(input(\"Informe um número inteiro qualquer: \"))\n",
        "\n",
        "# Quadrado de n\n",
        "quad = n ** 2\n",
        "\n",
        "# Raiz de n\n",
        "raiz = math.sqrt(n)\n",
        "\n",
        "# Divisão\n",
        "div = quad/raiz\n",
        "\n",
        "# Mostra resultado da divisão\n",
        "print(\"O quadrado de\", n, \"é\", quad, \", a raiz quadrada é\", raiz, \"e a divisão do quadrado pela raiz quadrada é\", div)"
      ]
    },
    {
      "cell_type": "markdown",
      "source": [
        "2 - Faça em Python um algoritmo que calcule e escreva o preço final de um computador, sendo fornecido o\n",
        "preço de fábrica. O preço final do computador é calculado com base nos adicionais de: 30 % de imposto e\n",
        "10 % de revenda sobre o preço de fábrica."
      ],
      "metadata": {
        "id": "HBAVYP3PB2SY"
      }
    },
    {
      "cell_type": "code",
      "source": [
        "from pdb import runeval\n",
        "# Algoritmo Preço Final do Computador\n",
        "\n",
        "#Constante\n",
        "imposto = 30\n",
        "revenda = 10\n",
        "\n",
        "# Recebe o preço de fábrica\n",
        "preco_fabrica = float(input(\"Informe o preço de fábrica do computador: \"))\n",
        "\n",
        "# Calculos de imposto e revenda\n",
        "imp = preco_fabrica * imposto / 100\n",
        "rev = preco_fabrica * revenda / 100\n",
        "\n",
        "# Preço Final\n",
        "preco_final = preco_fabrica + imp + rev\n",
        "\n",
        "# Imprime o preço final\n",
        "print(\"O preço final do computador é:\", round(preco_final, 2))\n",
        "# Imprime o preço final e arredonda o valor de outra maneira\n",
        "print(f\"O preço final do computador é:{preco_final:.2f}\")\n"
      ],
      "metadata": {
        "colab": {
          "base_uri": "https://localhost:8080/"
        },
        "id": "dJpDqFknB6jo",
        "outputId": "1d56e4ba-c0dd-476d-c484-6fa7d09faaac"
      },
      "execution_count": null,
      "outputs": [
        {
          "output_type": "stream",
          "name": "stdout",
          "text": [
            "Informe o preço de fábrica do computador: 1238.78\n",
            "O preço final do computador é: 1734.29\n"
          ]
        }
      ]
    },
    {
      "cell_type": "markdown",
      "source": [
        "3 - Faça um algoritmo em Python que leia três números inteiros e calcule a sua média. Ao final, o algoritmo\n",
        "deve escrever os números lidos e o resultado da média."
      ],
      "metadata": {
        "id": "QWTWzWjaEA0d"
      }
    },
    {
      "cell_type": "code",
      "source": [
        "# Algoritmo Média\n",
        "\n",
        "# Entrada de dados pelo usuário\n",
        "n1 = int(input(\"Digite o 1° número: \"))\n",
        "n2 = int(input(\"Digite o 2° número: \"))\n",
        "n3 = int(input(\"Digite o 3° número: \"))\n",
        "\n",
        "# Calcula a média\n",
        "media = (n1 + n2 + n3) / 3\n",
        "\n",
        "# Imprime a média\n",
        "print(\"Os números lidos foram\", n1, n2, n3, \"e a média desses é igual a\", media)\n"
      ],
      "metadata": {
        "colab": {
          "base_uri": "https://localhost:8080/"
        },
        "id": "h9zH4pY8C_-b",
        "outputId": "dd371fb3-c32c-4c97-ff0a-6f75874c6be1"
      },
      "execution_count": null,
      "outputs": [
        {
          "output_type": "stream",
          "name": "stdout",
          "text": [
            "Digite o 1° número: 2\n",
            "Digite o 2° número: 6\n",
            "Digite o 3° número: 8\n",
            "Os números lidos foram 2 6 8 e a média desses é igual a 5.333333333333333\n"
          ]
        }
      ]
    },
    {
      "cell_type": "markdown",
      "source": [
        "4 - Fazer um algoritmo em Python que calcule o número de litros de combustível gastos em uma viagem, sabendo-se que o carro faz 12 km com um litro. Deverão ser lidos o tempo gasto na viagem e a velocidade média. Aplicar as seguintes fórmulas:\n",
        "- Distância = tempo gasto x velocidade média\n",
        "- litros gastos = distância / 12"
      ],
      "metadata": {
        "id": "4-fv2wXIFbQZ"
      }
    },
    {
      "cell_type": "code",
      "source": [
        "# Algoritmo Viagem\n",
        "\n",
        "# Constante\n",
        "km_litro = 12\n",
        "\n",
        "# Entradas dos dados de tempo gasto e velocidade média\n",
        "tempo_gasto = float(input(\"Digite o tempo gasto na viagem (em horas):\"))\n",
        "vel_med = float(input(\"Digite a velocidade média da viagem: \"))\n",
        "\n",
        "# Cálculo da distância e litros gastos\n",
        "distancia = tempo_gasto * vel_med\n",
        "lit_gasto = distancia/km_litro\n",
        "\n",
        "# Imprime litros gastos\n",
        "print(\"Nesta viagem foram gastos\", lit_gasto, \"litros\")\n",
        "\n"
      ],
      "metadata": {
        "colab": {
          "base_uri": "https://localhost:8080/"
        },
        "id": "47dvG_4IFfya",
        "outputId": "e51bef26-9ef1-45bd-87be-fbaec8ffc244"
      },
      "execution_count": null,
      "outputs": [
        {
          "output_type": "stream",
          "name": "stdout",
          "text": [
            "Digite o tempo gasto na viagem (em horas):2\n",
            "Digite a velocidade média da viagem: 100\n",
            "Nesta viagem foram gastos 16.666666666666668 litros\n"
          ]
        }
      ]
    },
    {
      "cell_type": "markdown",
      "source": [
        "5 - Faça em Python um algoritmo que leia dois números inteiros (x e y), e calcule o quociente e o resto da divisão de x por y e escreva os resultados."
      ],
      "metadata": {
        "id": "cWQs9iHlHNil"
      }
    },
    {
      "cell_type": "code",
      "source": [
        "# Algoritmo Quociente e Resto da divisão\n",
        "\n",
        "# Entrada dos dados\n",
        "x = int(input(\"Digite um número inteiro: \"))\n",
        "y = int(input(\"Digite outro inteiro: \"))\n",
        "\n",
        "# Calcula quociente e resto da divisão\n",
        "quo = x / y\n",
        "mod = x % y\n",
        "\n",
        "# Imprime resultados\n",
        "print(\"O quociente de\", x, \"por\", y, \"é\", quo)\n",
        "print(\"O resto da divisão de\", x, \"por\", y, \"é\", mod)\n",
        "\n"
      ],
      "metadata": {
        "colab": {
          "base_uri": "https://localhost:8080/"
        },
        "id": "Bdz1biPlHW2F",
        "outputId": "125f10a1-1f3c-4fba-a9fc-2ddce365a140"
      },
      "execution_count": null,
      "outputs": [
        {
          "output_type": "stream",
          "name": "stdout",
          "text": [
            "Digite um número inteiro: 4\n",
            "Digite outro inteiro: 8\n",
            "O quociente de 4 por 8 é 0.5\n",
            "O resto da divisão de 4 por 8 é 4\n"
          ]
        }
      ]
    },
    {
      "cell_type": "markdown",
      "source": [
        "6 - Escreva em python um algoritmo que leia três números reais (a, b, c), e calcule a média aritmética. Após os cálculos, os resultados deverão ser escritos."
      ],
      "metadata": {
        "id": "c5NU3iVjIkyF"
      }
    },
    {
      "cell_type": "code",
      "source": [
        "# Algoritmo Média\n",
        "\n",
        "# Lê as entradas do usuário\n",
        "a = float(input(\"Digite o 1° número: \"))\n",
        "b = float(input(\"Digite o 2° número: \"))\n",
        "c = float(input(\"Digite o 3° número: \"))\n",
        "\n",
        "# Calcula a média\n",
        "media = (a + b + c) / 3\n",
        "\n",
        "# Imprime a média\n",
        "print(\"A média dos números digitados é:\", media)"
      ],
      "metadata": {
        "colab": {
          "base_uri": "https://localhost:8080/"
        },
        "id": "TVFu1AXAInOd",
        "outputId": "5d579151-fb70-408b-cd31-72c2afa7b9e1"
      },
      "execution_count": null,
      "outputs": [
        {
          "output_type": "stream",
          "name": "stdout",
          "text": [
            "Digite o 1° número: 7\n",
            "Digite o 2° número: 8\n",
            "Digite o 3° número: 4\n",
            "A média dos números digitados é: 6.333333333333333\n"
          ]
        }
      ]
    },
    {
      "cell_type": "markdown",
      "source": [
        "7 - Uma loja de equipamentos de informática resolveu incentivar os seus funcionários a venderem no mês março. Para cada produto vendido, a loja dará uma bonificação de 1%, sobre o salário do funcionário. Desta forma, o funcionário que vender 10 produtos, terá um acréscimo de 10% em seu salário.Faça um algoritmo em Python que leia o código, o nome e o salário fixo do funcionário, além do número de produtos vendidos por ele no mês, e calcule o salário final do funcionário. Por fim, o algoritmo deve escrever o código e o nome do funcionário, juntamente com o seu salário final."
      ],
      "metadata": {
        "id": "ScatgOKEBiEu"
      }
    },
    {
      "cell_type": "code",
      "source": [
        "# Algoritmo Bonus de Vendas Equipamentos de informática\n",
        "\n",
        "# Entrada dos dados\n",
        "codigo = input(\"Digite o código do funcionário: \")\n",
        "nome = input(\"Digite o nome do funcionário: \")\n",
        "sal_fixo = float(input(\"Digite o salário fixo do funcionário: \"))\n",
        "qtd_produtos = int(input(\"Digite a quantidade de produtos vendidos pelo funcionário: \"))\n",
        "\n",
        "# Cálculo do bônus e salário final\n",
        "bonus = (qtd_produtos * 1 / 100) * sal_fixo\n",
        "sal_final = sal_fixo + bonus\n",
        "\n",
        "# Imprime a mensagem final\n",
        "\n",
        "print(f\"\\nO funcionário(a) {nome}, de código {codigo}, teve salário final de R${round(sal_final, 2)}\")"
      ],
      "metadata": {
        "colab": {
          "base_uri": "https://localhost:8080/"
        },
        "id": "YrZRxubqd8h1",
        "outputId": "15ee57ee-29c9-4ccf-876b-ff5dab5df956"
      },
      "execution_count": null,
      "outputs": [
        {
          "output_type": "stream",
          "name": "stdout",
          "text": [
            "Digite o código do funcionário: 120098\n",
            "Digite o nome do funcionário: Eduarda Moraes\n",
            "Digite o salário fixo do funcionário: 1500\n",
            "Digite a quantidade de produtos vendidos pelo funcionário: 10\n",
            "O funcionário Eduarda Moraes, de código 120098, teve salário final de R$1650.0, no mês de março\n"
          ]
        }
      ]
    },
    {
      "cell_type": "markdown",
      "source": [
        "8 - Construa um algoritmo em Python que calcule a quantidade de latas de tintas necessárias e o custo para pintar tanques cilíndricos de combustível, onde são fornecidos a altura e o raio deste cilindro. Sabendo que:\n",
        "*   A lata de tinta custa R$ 150,00;\n",
        "*   Cada lata contém 5 litros;\n",
        "*   Cada litro de tinta pinta 3 metros quadrados;\n",
        "*   A área do total cilindro é dada por área da base + área lateral;\n",
        "*   A área da base do cilindro é dada π*raio²;\n",
        "*   A área da lateral é 2*π*raio*altura;\n",
        "*   Lembrando que π (pi) vale 3,14.\n",
        "\n"
      ],
      "metadata": {
        "id": "nQyZVSEjhnCN"
      }
    },
    {
      "cell_type": "code",
      "source": [
        "# Algoritmo Custo e quantidade de latas para pintar um tanque cilindrico\n",
        "\n",
        "# Biblioteca\n",
        "import math\n",
        "\n",
        "# Constantes\n",
        "pi = 3.14\n",
        "custo_lata = 150.00 # R$\n",
        "volume_latas = 5.0 # l\n",
        "area_por_litro = 3.0 # m²/l\n",
        "\n",
        "# Entradas do usuário\n",
        "altura = input(\"Digite a altura do cilindro (em metros): \")\n",
        "altura = float(altura.replace(\",\", \".\"))\n",
        "raio = input(\"Digite o raio do cilindro (em metros): \")\n",
        "raio = float(raio.replace(\",\", \".\"))\n",
        "\n",
        "\n",
        "# Cálculos de área, quantidade de latas e custo\n",
        "area_base = pi * raio ** 2\n",
        "area_lat = 2 * pi * raio * altura\n",
        "area_tot = area_base + area_lat # m²\n",
        "volume_total = area_tot / area_por_litro\n",
        "qtd_latas = volume_total // volume_latas\n",
        "\n",
        "# Verifica se a quantidade de latas é um número redondo\n",
        "if volume_total % volume_latas > 0:\n",
        "  qtd_latas += 1\n",
        "\n",
        "# Cálculo custo total\n",
        "custo = qtd_latas * custo_lata # R$\n",
        "\n",
        "# Imprime a quantidade de latas necessárias e o custo\n",
        "print(f\"A quantidade de latas de tintas necessárias para pintar o tanque é {qtd_latas}, e o custo para pintar o tanque será de R${round(custo, 2)}\")\n"
      ],
      "metadata": {
        "colab": {
          "base_uri": "https://localhost:8080/"
        },
        "id": "LUtcmaXCiZmw",
        "outputId": "075456d9-ffcf-42c4-a309-1e842404dc53"
      },
      "execution_count": null,
      "outputs": [
        {
          "output_type": "stream",
          "name": "stdout",
          "text": [
            "Digite a altura do cilindro (em metros): 12,5\n",
            "Digite o raio do cilindro (em metros): 3,5\n",
            "A quantidade de latas de tintas necessárias para pintar o tanque é 21.0, e o custo para pintar o tanque será de R$3150.0\n"
          ]
        }
      ]
    },
    {
      "cell_type": "markdown",
      "source": [
        "9 - Elabore um algoritmo em Python para calcular e escrever o preço final de um computador, sendo fornecido o preço de fábrica. O preço final do computador é calculado com base nos adicionais 45 % de\n",
        "imposto e 28 % de revenda sobre o preço de fábrica."
      ],
      "metadata": {
        "id": "NuPC998tnptV"
      }
    },
    {
      "cell_type": "code",
      "source": [
        "# Algoritmo preço final do computador\n",
        "\n",
        "# Constantes\n",
        "imposto = 45\n",
        "revenda = 28\n",
        "\n",
        "# Entradas do usuário\n",
        "preco_fabrica = float(input(\"Digite o preço de fábrica do computador: \"))\n",
        "\n",
        "# Calcula imposto e preço de revenda\n",
        "preco_imposto = preco_fabrica * imposto /100\n",
        "preco_revenda = preco_fabrica * revenda / 100\n",
        "\n",
        "# Calcula preço final\n",
        "preco_final = preco_revenda + preco_imposto + preco_fabrica\n",
        "\n",
        "# Imprime o preço final para o usuário\n",
        "print(f\"O preço final do computador é R${round(preco_final,2)}\")\n",
        "\n"
      ],
      "metadata": {
        "colab": {
          "base_uri": "https://localhost:8080/"
        },
        "id": "XhnRkZcYnwu6",
        "outputId": "a917c147-179f-4226-a4f9-600242a540f8"
      },
      "execution_count": null,
      "outputs": [
        {
          "output_type": "stream",
          "name": "stdout",
          "text": [
            "Digite o preço de fábrica do computador: 1000\n",
            "O preço final do computador é R$1730.0\n"
          ]
        }
      ]
    },
    {
      "cell_type": "markdown",
      "source": [
        "10 - Uma revendedora de carros usados paga aos seus funcionários vendedores, um salário fixo por mês, mais\n",
        "uma comissão para cada carro vendido. Escreva um algoritmo em Python que leia o número do vendedor, o seu salário fixo, o número de carros por ele vendidos, e o valor que recebe por carro vendido, e calcule o\n",
        "salário mensal do vendedor, escrevendo-o juntamente com o seu número de identificação."
      ],
      "metadata": {
        "id": "PsH3V-IWho4F"
      }
    },
    {
      "cell_type": "code",
      "source": [
        "# Algoritmo revenda de carros\n",
        "\n",
        "# Entrada dos dados\n",
        "numero_vend = input(\"Digite o número de identificação do vendedor: \")\n",
        "sal_fixo = float(input(\"Digite o salário fixo do vendedor: \"))\n",
        "qtd_carros = int(input(\"Digite a quantidade de carros vendidos pelo vendedor: \"))\n",
        "vlr_carro = float(input(\"Digite o valor de comissão que o vendedor ganha por carro: \"))\n",
        "\n",
        "# Calcula o salário final\n",
        "sal_final = sal_fixo + (qtd_carros * vlr_carro)\n",
        "\n",
        "# Imprime o salário final do vendedor\n",
        "print(f\"O vendedor {numero_vend}, teve salário R${round(sal_final, 2)}\")\n",
        "\n"
      ],
      "metadata": {
        "colab": {
          "base_uri": "https://localhost:8080/"
        },
        "id": "HW6LjnA6hyze",
        "outputId": "2139ca20-8463-410c-85ce-d01d150120b3"
      },
      "execution_count": null,
      "outputs": [
        {
          "output_type": "stream",
          "name": "stdout",
          "text": [
            "Digite o número de identificação do vendedor: 1234\n",
            "Digite o salário fixo do vendedor: 1600\n",
            "Digite a quantidade de carros vendidos pelo vendedor: 10\n",
            "Digite o valor de comissão que o vendedor ganha por carro: 200\n",
            "O vendedor 1234, teve salário R$3600.0\n"
          ]
        }
      ]
    },
    {
      "cell_type": "markdown",
      "source": [
        "11 - Uma empresa, para emitir a sua folha de pagamento mensal, trabalha com os seguintes dados:\n",
        "\n",
        "*Relativos ao Sistema de Pagamentos*\n",
        "\n",
        "* Valor da Hora Normal = R$ 8,00\n",
        "\n",
        "* Valor da Hora Extra = R$ 9,50\n",
        "* Valor do Acréscimo por Dependente = RS 2,50\n",
        "\n",
        "*Relativos a cada Funcionário*\n",
        "\n",
        "* Número de Identificação\n",
        "* Nome\n",
        "* Número de horas normais trabalhadas\n",
        "* Número de horas extras trabalhadas\n",
        "* Número de dependentes\n",
        "\n",
        "O cálculo do salário de cada funcionário é feito em 3 etapas:\n",
        "\n",
        "**Etapa 1 : Cálculo do Salário Bruto**\n",
        "\n",
        "* SALARIO BRUTO = Valor Total de Horas Normais + Valor Total de Horas Extras + Valor Total de Dependentes\n",
        "\n",
        "**Etapa 2 : Descontos**\n",
        "* Todos os funcionários são isentos de imposto de renda, e descontam 5% do salário bruto para o INSS.\n",
        "\n",
        "**Etapa 3 : Salário Líquido**\n",
        "* SALARIO LÍQUIDO = SALARIO BRUTO - DESCONTO\n",
        "\n",
        "Escrever um algoritmo em Python que leia os dados referentes ao funcionário, calcule e escreva o salário líquido do funcionário da empresa. Obs.: Além do salário líquido, escreva o número de identificação e o nome do funcionário."
      ],
      "metadata": {
        "id": "8d__ZW_QlIOo"
      }
    },
    {
      "cell_type": "code",
      "source": [
        "# Algoritmo Folha de Pagamento\n",
        "\n",
        "# Constantes\n",
        "vlr_hr_normal = 8.0\n",
        "vlr_hr_extra = 9.5\n",
        "vlr_depend = 2.5\n",
        "desc_inss = 5\n",
        "\n",
        "# Entrada dos dados\n",
        "nome = input(\"Digite o nome do funcionário: \")\n",
        "numero_ident = input(\"Digite o número de identificação do funcionário \" + nome +\": \")\n",
        "hr_trabalhadas = float(input(\"Digite quantas horas o funcionário trabalhou dentro de seu período habitual: \"))\n",
        "hr_extra = float(input(\"Digite a quantidade de horas extras que o funcionário fez: \"))\n",
        "num_depend = int(input(\"Digite quantos dependentes o funcionário possui: \"))\n",
        "\n",
        "# Calculos do sálario\n",
        "#Etapa 1\n",
        "sal_bruto = hr_trabalhadas * vlr_hr_normal + hr_extra * vlr_hr_extra + num_depend * vlr_depend\n",
        "\n",
        "#Etapa 2\n",
        "sal_liq = sal_bruto - (sal_bruto * 5 / 100)\n",
        "\n",
        "# Imprime as informações para o usuário com salário final\n",
        "print(f\"/nO funcionário {nome}, que possui o número de identificação {numero_ident} teve salário liquido de R$ {round(sal_liq, 2)}\")\n",
        "\n"
      ],
      "metadata": {
        "colab": {
          "base_uri": "https://localhost:8080/"
        },
        "id": "NCrdFli0mUc-",
        "outputId": "3a663e89-47f4-42c5-d23e-88921160a2ff"
      },
      "execution_count": null,
      "outputs": [
        {
          "output_type": "stream",
          "name": "stdout",
          "text": [
            "Digite o número de identificação do funcionário: 2345\n",
            "Digite o nome do funcionário: Márcio\n",
            "Digite quantas horas o funcionário trabalhou dentro de seu período habitual: 220\n",
            "Digite a quantidade de horas extras que o funcionário fez: 20\n",
            "Digite quantos dependentes o funcionário possui: 2\n",
            "O funcionário Márcio, que possui o número de identificação 2345 teve salário liquido de R$ 1857.25\n"
          ]
        }
      ]
    }
  ]
}