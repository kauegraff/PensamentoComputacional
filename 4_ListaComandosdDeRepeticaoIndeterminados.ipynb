{
  "nbformat": 4,
  "nbformat_minor": 0,
  "metadata": {
    "colab": {
      "provenance": [],
      "authorship_tag": "ABX9TyMXqsSb9PPwLmFSZiuYBfHi",
      "include_colab_link": true
    },
    "kernelspec": {
      "name": "python3",
      "display_name": "Python 3"
    },
    "language_info": {
      "name": "python"
    }
  },
  "cells": [
    {
      "cell_type": "markdown",
      "metadata": {
        "id": "view-in-github",
        "colab_type": "text"
      },
      "source": [
        "<a href=\"https://colab.research.google.com/github/kauegraff/PensamentoComputacional/blob/main/4_ListaComandosdDeRepeticaoIndeterminados.ipynb\" target=\"_parent\"><img src=\"https://colab.research.google.com/assets/colab-badge.svg\" alt=\"Open In Colab\"/></a>"
      ]
    },
    {
      "cell_type": "markdown",
      "source": [
        "###1 - Faça um algoritmo em Python que leia a nota de vários alunos de uma turma. Ao final, deve ser escrita a média geral da turma. A leitura das médias somente encerra quando uma nota negativa for digitada."
      ],
      "metadata": {
        "id": "Ojzu070eCewo"
      }
    },
    {
      "cell_type": "code",
      "execution_count": null,
      "metadata": {
        "colab": {
          "base_uri": "https://localhost:8080/"
        },
        "id": "fdN88BdBCVNk",
        "outputId": "81262187-ebab-4d73-e650-f3854acf1b77"
      },
      "outputs": [
        {
          "output_type": "stream",
          "name": "stdout",
          "text": [
            "Digite a nota do aluno: 6\n",
            "Digite a nota do aluno: 7\n",
            "Digite a nota do aluno: 7\n",
            "Digite a nota do aluno: 7\n",
            "Digite a nota do aluno: 78\n",
            "Digite a nota do aluno: 8\n",
            "Digite a nota do aluno: 8\n",
            "Digite a nota do aluno: 7\n",
            "Digite a nota do aluno: 6\n",
            "Digite a nota do aluno: -1\n",
            "Média dos alunos: 13.3\n"
          ]
        }
      ],
      "source": [
        "# Algoritmo que calcula a nota de vários alunos e determinada a média da turma\n",
        "\n",
        "# Variáveis\n",
        "cnt_alunos = 0\n",
        "acum_notas = 0\n",
        "nota = 0\n",
        "\n",
        "# Loop para que enquanto a nota for maior ou igual a zero ele execute o algoritmo\n",
        "while nota >=0:\n",
        "  # Verifica se a nota é menor que zero, caso seja interrompe o loop\n",
        "  if nota < 0:\n",
        "    break\n",
        "  else:\n",
        "    nota = float(input(\"Digite a nota do aluno: \")) # Entrada da nota\n",
        "    cnt_alunos += 1 # Contador de alunos\n",
        "    acum_notas += nota # Acumulador das notas\n",
        "\n",
        "# Calcula a média e imprime o resultado\n",
        "med = acum_notas / cnt_alunos\n",
        "print(f\"Média dos alunos: {med}\")"
      ]
    },
    {
      "cell_type": "markdown",
      "source": [
        "###2 - Faça um programa em Python para repetir a leitura de um número enquanto o valor fornecido for diferente de 0. Para cada número fornecido, escrever se ele é NEGATIVO ou POSITIVO. Quando o número 0 for fornecido o algoritmo deve encerrar informando o usuário."
      ],
      "metadata": {
        "id": "HU7RwjTzCd9p"
      }
    },
    {
      "cell_type": "code",
      "source": [
        "# Algoritmo que verifica se um número é negativo ou positivo\n",
        "\n",
        "# Variavel\n",
        "num = 1\n",
        "\n",
        "# Loop para que enquanto o número for diferente de zero ele execute o algoritmo\n",
        "while num != 0:\n",
        "  num = float(input(\"Digite um número qualquer:\"))\n",
        "  if num > 0: # Verifica se o número é positivo\n",
        "    print(f\"O número {num} é positivo\")\n",
        "  elif num < 0: # Verifica se o número é negativo\n",
        "    print(f\"O número {num} é negativo\")\n",
        "  else:\n",
        "    break # Encerra o algoritmo se o número for igual a zero\n",
        "print(\"\\nAlgoritmo encerrado pelo usuário\")"
      ],
      "metadata": {
        "colab": {
          "base_uri": "https://localhost:8080/"
        },
        "id": "8oPdTZB3Dr_t",
        "outputId": "52c61361-1c9a-435e-fea8-56c956f4dd9e"
      },
      "execution_count": null,
      "outputs": [
        {
          "output_type": "stream",
          "name": "stdout",
          "text": [
            "Digite um número qualquer:2\n",
            "O número 2.0 é positivo\n",
            "Digite um número qualquer:2\n",
            "O número 2.0 é positivo\n",
            "Digite um número qualquer:0\n",
            "\n",
            "Algoritmo encerrado pelo usuário\n"
          ]
        }
      ]
    },
    {
      "cell_type": "markdown",
      "source": [
        "###3 - Faça um programa em Python para ler uma quantidade indeterminada de valores inteiros. Para cada valor fornecido apresentar uma mensagem que indique se o valor fornecido é PAR ou ÍMPAR. O programa será encerrado imediatamente após a leitura de um valor NULO (zero) ou NEGATIVO."
      ],
      "metadata": {
        "id": "f8jq_yybErLL"
      }
    },
    {
      "cell_type": "code",
      "source": [
        "# Algoritmo que verifica se um número é ímpar ou par\n",
        "\n",
        "# Variáveis\n",
        "num = 1\n",
        "\n",
        "# Enquanto o número for maior que zero execute o algoritmo\n",
        "while num > 0:\n",
        "  num = int(input(\"Digite um número inteiro: \")) # Entrada do número\n",
        "  if num <= 0:\n",
        "    break # Encerra o algoritmo se o número for menor ou igual a zero\n",
        "  else:\n",
        "    if num % 2 == 0: # Verifica se o número é par\n",
        "      print(f\"{num} é par\")\n",
        "    elif num % 2 != 0: # Verifica se o número é ímpar\n",
        "      print(f\"{num} é ímpar\")\n",
        "print(\"\\n Algoritmo encerrado pelo usuário\")"
      ],
      "metadata": {
        "colab": {
          "base_uri": "https://localhost:8080/"
        },
        "id": "Ws0UPdLyE-JT",
        "outputId": "390cdc45-53d1-4516-f5fc-89907eb89521"
      },
      "execution_count": null,
      "outputs": [
        {
          "output_type": "stream",
          "name": "stdout",
          "text": [
            "Digite um número inteiro: 0\n",
            "\n",
            " Algoritmo encerrado pelo usuário\n"
          ]
        }
      ]
    },
    {
      "cell_type": "markdown",
      "source": [
        "###4 - Sabe-se que não existe divisão por zero, para isso faça um programa que leia dois valores inteiros e escreva o resultado da divisão do primeiro pelo segundo. Se o segundo valor informado for ZERO, deve ser impressa uma mensagem de VALOR INVÁLIDO e uma nova leitura do segundo valor deve ser realizada. Ao final do programa deve ser impressa a seguinte mensagem: VOCÊ DESEJA OUTRO CÁLCULO (S/N). Se a resposta for S o programa deverá retornar ao começo, caso contrário deverá encerrar."
      ],
      "metadata": {
        "id": "BLl-v03cGf0P"
      }
    },
    {
      "cell_type": "code",
      "source": [
        "# Algoritmo realiza a divisão de dois números onde o segundo é diferente de zero\n",
        "\n",
        "# Variáveis\n",
        "r = \"s\"\n",
        "\n",
        "while r != \"n\" or r != \"N\":\n",
        "  if r == \"n\" or r == \"N\": # Encerra o algoritmo cao a resposta seja não (N)\n",
        "    break\n",
        "  else:\n",
        "    num1 = int(input(\"Digite o primeiro número: \")) # Entrada no número 1\n",
        "    num2 = int(input(\"Digite o segundo número: \")) # Entrada do número 2\n",
        "\n",
        "    while num2 == 0: # En quanto o número 2 for menor ou igual a zero ele faz uma nova leitura\n",
        "      num2 = int(input(\"VALOR INVÁLIDO! Digite o segundo valor novamente: \"))\n",
        "\n",
        "    # Calcula a divisão e imprime o resultado junto a pergunta para realizar um novo calculo\n",
        "    div = num1 / num2\n",
        "    print(f\"\\nA divisão de {num1} por {num2} é igual a {round(div, 2)}\")\n",
        "    r = input(\"VOCÊ DESEJA OUTRO CÁLCULO?(S/N)3\")\n",
        "\n",
        "\n"
      ],
      "metadata": {
        "colab": {
          "base_uri": "https://localhost:8080/"
        },
        "id": "daP0JMfHGM6F",
        "outputId": "3c35a558-332b-4512-a79b-484b95ee4588"
      },
      "execution_count": null,
      "outputs": [
        {
          "name": "stdout",
          "output_type": "stream",
          "text": [
            "Digite o primeiro número: 8\n",
            "Digite o segundo número: 4\n",
            "\n",
            "A divisão de 8.0 por 4.0 é igual a 2.0\n",
            "VOCÊ DESEJA OUTRO CÁLCULO?(S/N)S\n",
            "Digite o primeiro número: 4\n",
            "Digite o segundo número: 4\n",
            "\n",
            "A divisão de 4.0 por 4.0 é igual a 1.0\n",
            "VOCÊ DESEJA OUTRO CÁLCULO?(S/N)N\n",
            "Digite o primeiro número: 33\n",
            "Digite o segundo número: 3\n",
            "\n",
            "A divisão de 33.0 por 3.0 é igual a 11.0\n",
            "VOCÊ DESEJA OUTRO CÁLCULO?(S/N)n\n"
          ]
        }
      ]
    },
    {
      "cell_type": "markdown",
      "source": [
        "###5 - Faça um programa em Python que verifique a validade de uma senha fornecida pelo usuário. A senha válida é o número 1234.\n",
        "* OBS: Se a senha informada pelo usuário for inválida, a mensagem \"ACESSO NEGADO\" deve ser impressa e repetida a solicitação de uma nova senha até que ela seja válida. Caso contrário deve ser impressa a mensagem \"ACESSO PERMITIDO\" junto com um número que representa quantas vezes a senha foi informada."
      ],
      "metadata": {
        "id": "o_H8q42FJ5oM"
      }
    },
    {
      "cell_type": "code",
      "source": [
        "# Algoritmo que verifica a validade de uma senha\n",
        "\n",
        "senha = \"1234\"\n",
        "senha_digitada = \"1\"\n",
        "\n",
        "while senha_digitada != senha: # Executa o algoritmo enquanto a senha digitada for diferente de senha\n",
        "  senha_digitada = input(\"\\nDigite a senha: \")\n",
        "  if senha_digitada == senha:\n",
        "    break # Se a senha estiver corretas interrompe o loop\n",
        "  else: # Se a senha estiver incorreta permite tentar de novo\n",
        "    print(\"ACESSO NEGADO! TENTE NOVAMENTE\")\n",
        "\n",
        "print(\"ACESSO PERMITIDO\")"
      ],
      "metadata": {
        "colab": {
          "base_uri": "https://localhost:8080/"
        },
        "id": "ZG5aC1jUJ91q",
        "outputId": "71697d7d-775d-4834-800c-95955b320661"
      },
      "execution_count": null,
      "outputs": [
        {
          "output_type": "stream",
          "name": "stdout",
          "text": [
            "\n",
            "Digite a senha: 12\n",
            "ACESSO NEGADO! TENTE NOVAMENTE\n",
            "\n",
            "Digite a senha: 123\n",
            "ACESSO NEGADO! TENTE NOVAMENTE\n",
            "\n",
            "Digite a senha: 1234\n",
            "ACESSO PERMITIDO\n"
          ]
        }
      ]
    },
    {
      "cell_type": "markdown",
      "source": [
        "###6 - Faça um programa em Python que verifique a validade de uma senha fornecida pelo usuário. A senha válida é o número 1234. Se a senha informada pelo usuário for válida a mensagem \"ACESSO PERMITIDO\" deve ser informada. O usuário não terá acesso ao sistema se errar a senha três vezes, neste caso a mensagem \"ACESSO NEGADO\" deve ser informada e a cada vez que o usuário errar a senha, dentro do limite, a mensagem informada será \"SENHA ERRADA, TENTATIVA X DE 3\", sendo o X o número da tentativa.\n"
      ],
      "metadata": {
        "id": "TJTROpTjK_LX"
      }
    },
    {
      "cell_type": "code",
      "source": [
        "# Algoritmo que verifica se a senha é válida\n",
        "\n",
        "# Variáveis\n",
        "tentativa = 0\n",
        "senha_digitada = \"123\"\n",
        "senha = \"1234\"\n",
        "\n",
        "# Loop para definir quantas vezes o algoritmo deve rodar\n",
        "while tentativa < 3:\n",
        "  # Entrada do usuário\n",
        "  senha_digitada = input(\"\\nDigite a senha: \")\n",
        "  # Verifica se a senha está correta\n",
        "  if senha_digitada == senha:\n",
        "    print(f\"ACESSO PERMITIDO\")\n",
        "  # Se a senha não estiver correta soma + 1 no CONTADOR e imprime um texto\n",
        "  else:\n",
        "    tentativa += 1\n",
        "    print(f\"SENHA ERRADA! TENTATIVA {tentativa} de 3\")\n",
        "\n"
      ],
      "metadata": {
        "id": "vUVCD4QvLJMu",
        "colab": {
          "base_uri": "https://localhost:8080/"
        },
        "outputId": "9c86c359-307d-4698-81e6-0c0e6a73ffe0"
      },
      "execution_count": null,
      "outputs": [
        {
          "output_type": "stream",
          "name": "stdout",
          "text": [
            "\n",
            "Digite a senha: 12\n",
            "SENHA ERRADA! TENTATIVA 1 de 3\n",
            "\n",
            "Digite a senha: 12\n",
            "SENHA ERRADA! TENTATIVA 2 de 3\n",
            "\n",
            "Digite a senha: 12\n",
            "SENHA ERRADA! TENTATIVA 3 de 3\n"
          ]
        }
      ]
    }
  ]
}